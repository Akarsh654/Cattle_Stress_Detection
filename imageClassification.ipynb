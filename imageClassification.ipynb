{
 "cells": [
  {
   "cell_type": "code",
   "execution_count": 2,
   "metadata": {},
   "outputs": [
    {
     "name": "stderr",
     "output_type": "stream",
     "text": [
      "Using TensorFlow backend.\n",
      "c:\\Users\\akars\\Anaconda3\\lib\\site-packages\\tensorflow\\python\\framework\\dtypes.py:526: FutureWarning: Passing (type, 1) or '1type' as a synonym of type is deprecated; in a future version of numpy, it will be understood as (type, (1,)) / '(1,)type'.\n",
      "  _np_qint8 = np.dtype([(\"qint8\", np.int8, 1)])\n",
      "c:\\Users\\akars\\Anaconda3\\lib\\site-packages\\tensorflow\\python\\framework\\dtypes.py:527: FutureWarning: Passing (type, 1) or '1type' as a synonym of type is deprecated; in a future version of numpy, it will be understood as (type, (1,)) / '(1,)type'.\n",
      "  _np_quint8 = np.dtype([(\"quint8\", np.uint8, 1)])\n",
      "c:\\Users\\akars\\Anaconda3\\lib\\site-packages\\tensorflow\\python\\framework\\dtypes.py:528: FutureWarning: Passing (type, 1) or '1type' as a synonym of type is deprecated; in a future version of numpy, it will be understood as (type, (1,)) / '(1,)type'.\n",
      "  _np_qint16 = np.dtype([(\"qint16\", np.int16, 1)])\n",
      "c:\\Users\\akars\\Anaconda3\\lib\\site-packages\\tensorflow\\python\\framework\\dtypes.py:529: FutureWarning: Passing (type, 1) or '1type' as a synonym of type is deprecated; in a future version of numpy, it will be understood as (type, (1,)) / '(1,)type'.\n",
      "  _np_quint16 = np.dtype([(\"quint16\", np.uint16, 1)])\n",
      "c:\\Users\\akars\\Anaconda3\\lib\\site-packages\\tensorflow\\python\\framework\\dtypes.py:530: FutureWarning: Passing (type, 1) or '1type' as a synonym of type is deprecated; in a future version of numpy, it will be understood as (type, (1,)) / '(1,)type'.\n",
      "  _np_qint32 = np.dtype([(\"qint32\", np.int32, 1)])\n",
      "c:\\Users\\akars\\Anaconda3\\lib\\site-packages\\tensorflow\\python\\framework\\dtypes.py:535: FutureWarning: Passing (type, 1) or '1type' as a synonym of type is deprecated; in a future version of numpy, it will be understood as (type, (1,)) / '(1,)type'.\n",
      "  np_resource = np.dtype([(\"resource\", np.ubyte, 1)])\n"
     ]
    }
   ],
   "source": [
    "import numpy as np\n",
    "from sklearn.cluster import KMeans\n",
    "from PIL import Image\n",
    "from skimage import measure\n",
    "import os, cv2\n",
    "\n",
    "import pandas as pd\n",
    "import matplotlib.pyplot as plt\n",
    "from IPython.display import display, HTML\n",
    "from PIL import Image\n",
    "from sklearn.metrics import silhouette_score\n",
    "# for loading/processing the images  \n",
    "from keras.preprocessing.image import load_img \n",
    "from keras.preprocessing.image import img_to_array \n",
    "from keras.applications.vgg16 import preprocess_input \n",
    "from sklearn.decomposition import PCA\n",
    "# models \n",
    "from keras.applications.vgg16 import VGG16 \n",
    "from keras.models import Model\n",
    "import pickle"
   ]
  },
  {
   "cell_type": "code",
   "execution_count": 3,
   "metadata": {},
   "outputs": [],
   "source": [
    "img_index = []"
   ]
  },
  {
   "cell_type": "code",
   "execution_count": 35,
   "metadata": {},
   "outputs": [
    {
     "name": "stdout",
     "output_type": "stream",
     "text": [
      "WARNING:tensorflow:From c:\\Users\\akars\\Anaconda3\\lib\\site-packages\\tensorflow\\python\\ops\\resource_variable_ops.py:435: colocate_with (from tensorflow.python.framework.ops) is deprecated and will be removed in a future version.\n",
      "Instructions for updating:\n",
      "Colocations handled automatically by placer.\n"
     ]
    }
   ],
   "source": [
    "model = VGG16()\n",
    "model = Model(inputs = model.inputs, outputs = model.layers[-2].output)\n",
    "\n",
    "def extract_features(file, model):\n",
    "    # load the image as a 224x224 array\n",
    "    img = load_img(os.path.join(\"dataset_features\", file), target_size=(224,224))\n",
    "    # convert from 'PIL.Image.Image' to numpy array\n",
    "    img = np.array(img) \n",
    "    # reshape the data for the model reshape(num_of_samples, dim 1, dim 2, channels)\n",
    "    reshaped_img = img.reshape(1,224,224,3) \n",
    "    # prepare image for model\n",
    "    imgx = preprocess_input(reshaped_img)\n",
    "    # get the feature vector\n",
    "    features = model.predict(imgx, use_multiprocessing=True)\n",
    "    return features"
   ]
  },
  {
   "cell_type": "code",
   "execution_count": 36,
   "metadata": {},
   "outputs": [
    {
     "name": "stdout",
     "output_type": "stream",
     "text": [
      "Model: \"model_1\"\n",
      "_________________________________________________________________\n",
      "Layer (type)                 Output Shape              Param #   \n",
      "=================================================================\n",
      "input_1 (InputLayer)         (None, 224, 224, 3)       0         \n",
      "_________________________________________________________________\n",
      "block1_conv1 (Conv2D)        (None, 224, 224, 64)      1792      \n",
      "_________________________________________________________________\n",
      "block1_conv2 (Conv2D)        (None, 224, 224, 64)      36928     \n",
      "_________________________________________________________________\n",
      "block1_pool (MaxPooling2D)   (None, 112, 112, 64)      0         \n",
      "_________________________________________________________________\n",
      "block2_conv1 (Conv2D)        (None, 112, 112, 128)     73856     \n",
      "_________________________________________________________________\n",
      "block2_conv2 (Conv2D)        (None, 112, 112, 128)     147584    \n",
      "_________________________________________________________________\n",
      "block2_pool (MaxPooling2D)   (None, 56, 56, 128)       0         \n",
      "_________________________________________________________________\n",
      "block3_conv1 (Conv2D)        (None, 56, 56, 256)       295168    \n",
      "_________________________________________________________________\n",
      "block3_conv2 (Conv2D)        (None, 56, 56, 256)       590080    \n",
      "_________________________________________________________________\n",
      "block3_conv3 (Conv2D)        (None, 56, 56, 256)       590080    \n",
      "_________________________________________________________________\n",
      "block3_pool (MaxPooling2D)   (None, 28, 28, 256)       0         \n",
      "_________________________________________________________________\n",
      "block4_conv1 (Conv2D)        (None, 28, 28, 512)       1180160   \n",
      "_________________________________________________________________\n",
      "block4_conv2 (Conv2D)        (None, 28, 28, 512)       2359808   \n",
      "_________________________________________________________________\n",
      "block4_conv3 (Conv2D)        (None, 28, 28, 512)       2359808   \n",
      "_________________________________________________________________\n",
      "block4_pool (MaxPooling2D)   (None, 14, 14, 512)       0         \n",
      "_________________________________________________________________\n",
      "block5_conv1 (Conv2D)        (None, 14, 14, 512)       2359808   \n",
      "_________________________________________________________________\n",
      "block5_conv2 (Conv2D)        (None, 14, 14, 512)       2359808   \n",
      "_________________________________________________________________\n",
      "block5_conv3 (Conv2D)        (None, 14, 14, 512)       2359808   \n",
      "_________________________________________________________________\n",
      "block5_pool (MaxPooling2D)   (None, 7, 7, 512)         0         \n",
      "_________________________________________________________________\n",
      "flatten (Flatten)            (None, 25088)             0         \n",
      "_________________________________________________________________\n",
      "fc1 (Dense)                  (None, 4096)              102764544 \n",
      "_________________________________________________________________\n",
      "fc2 (Dense)                  (None, 4096)              16781312  \n",
      "=================================================================\n",
      "Total params: 134,260,544\n",
      "Trainable params: 134,260,544\n",
      "Non-trainable params: 0\n",
      "_________________________________________________________________\n",
      "None\n"
     ]
    }
   ],
   "source": [
    "print(model.summary())"
   ]
  },
  {
   "cell_type": "code",
   "execution_count": 37,
   "metadata": {},
   "outputs": [],
   "source": [
    "# Get a list of file names in the directory\n",
    "file_names = os.listdir(\"dataset_features\")\n",
    "p = r\"C:\\Users\\akars\\Desktop\\Studies\\Internships\\BioLab\\BioLab Work\\Cow Stress\\ImageProj\\dataset_features\"\n",
    "# Sort the list of file names alphabetically\n",
    "sorted_file_names = sorted(file_names, key=lambda x: int(x.split(\"_\")[0]))\n",
    "data = {}\n",
    "\n",
    "# Loop over all the images\n",
    "for filename in sorted_file_names:\n",
    "    \n",
    "    # Load image\n",
    "    if filename.endswith(\"thermal.jpg\") :\n",
    "        index = int(filename.split(\"_\")[0])\n",
    "        if index in img_index:\n",
    "            try:\n",
    "                feat = extract_features(filename, model)\n",
    "                data[index] = feat\n",
    "        # if something fails, save the extracted features as a pickle file (optional)\n",
    "            except:\n",
    "                with open(p,'wb') as file:\n",
    "                    pickle.dump(data,file)"
   ]
  },
  {
   "cell_type": "code",
   "execution_count": 38,
   "metadata": {},
   "outputs": [
    {
     "name": "stdout",
     "output_type": "stream",
     "text": [
      "{0: array([[0.        , 0.21771693, 1.4746828 , ..., 0.        , 0.        ,\n",
      "        0.6488475 ]], dtype=float32), 1: array([[0.        , 0.45234498, 1.9746944 , ..., 0.        , 0.        ,\n",
      "        0.8316392 ]], dtype=float32), 2: array([[0.        , 0.11669675, 2.1385043 , ..., 0.        , 0.        ,\n",
      "        0.8627497 ]], dtype=float32), 3: array([[0.        , 0.01755866, 3.3989892 , ..., 0.        , 0.        ,\n",
      "        1.0685377 ]], dtype=float32), 4: array([[0.        , 0.19497892, 2.89646   , ..., 0.        , 0.        ,\n",
      "        0.6531888 ]], dtype=float32), 5: array([[0.        , 0.21026492, 2.7622743 , ..., 0.        , 0.        ,\n",
      "        0.7648019 ]], dtype=float32), 6: array([[0.        , 0.14224687, 2.4030797 , ..., 0.        , 0.        ,\n",
      "        0.73021114]], dtype=float32), 7: array([[0.        , 0.38263118, 1.7163197 , ..., 0.        , 0.        ,\n",
      "        0.91997015]], dtype=float32), 8: array([[0.        , 0.3100902 , 2.9936843 , ..., 0.        , 0.        ,\n",
      "        0.89955777]], dtype=float32), 9: array([[0.        , 0.25089514, 1.9230229 , ..., 0.        , 0.        ,\n",
      "        1.1374094 ]], dtype=float32), 10: array([[0.       , 0.8644283, 2.9874225, ..., 0.       , 0.       ,\n",
      "        0.8817786]], dtype=float32), 11: array([[0.        , 0.62693304, 2.6417036 , ..., 0.        , 0.        ,\n",
      "        0.3744379 ]], dtype=float32), 12: array([[0.        , 0.8528656 , 2.6974182 , ..., 0.        , 0.        ,\n",
      "        0.16386867]], dtype=float32), 13: array([[0.       , 0.5536494, 2.473652 , ..., 0.       , 0.       ,\n",
      "        0.5248713]], dtype=float32), 14: array([[0.       , 1.3207784, 1.7873261, ..., 0.       , 0.       ,\n",
      "        0.       ]], dtype=float32), 15: array([[0.        , 0.24452922, 3.4829397 , ..., 0.        , 0.        ,\n",
      "        0.48718858]], dtype=float32), 16: array([[0.        , 0.3595994 , 3.2865071 , ..., 0.        , 0.        ,\n",
      "        0.40017378]], dtype=float32), 17: array([[0.        , 0.3132931 , 3.089335  , ..., 0.        , 0.        ,\n",
      "        0.43004364]], dtype=float32), 18: array([[0.        , 0.42984942, 2.8869386 , ..., 0.        , 0.        ,\n",
      "        0.6303693 ]], dtype=float32), 19: array([[0.        , 0.1515969 , 2.983964  , ..., 0.        , 0.        ,\n",
      "        0.37328675]], dtype=float32), 20: array([[0.       , 0.1486606, 3.0491772, ..., 0.       , 0.       ,\n",
      "        0.575309 ]], dtype=float32), 21: array([[0.        , 1.0388395 , 1.7654485 , ..., 0.        , 0.        ,\n",
      "        0.20120299]], dtype=float32), 22: array([[0.        , 0.143781  , 3.4803343 , ..., 0.        , 0.        ,\n",
      "        0.57476765]], dtype=float32), 23: array([[0.        , 0.72322947, 2.0433292 , ..., 0.        , 0.        ,\n",
      "        0.2187854 ]], dtype=float32), 24: array([[0.       , 0.5803232, 3.2634263, ..., 0.       , 0.       ,\n",
      "        0.7323267]], dtype=float32), 25: array([[0.        , 0.28993466, 2.1439347 , ..., 0.        , 0.        ,\n",
      "        1.1083078 ]], dtype=float32), 26: array([[0.       , 0.       , 2.752615 , ..., 0.       , 0.       ,\n",
      "        1.4238217]], dtype=float32), 27: array([[0.        , 0.02836576, 2.606873  , ..., 0.        , 0.        ,\n",
      "        1.2254462 ]], dtype=float32), 28: array([[0.        , 0.12112647, 1.8513709 , ..., 0.        , 0.        ,\n",
      "        0.86925805]], dtype=float32), 29: array([[0.        , 0.9311859 , 1.5419991 , ..., 0.        , 0.        ,\n",
      "        0.82271355]], dtype=float32), 30: array([[0.        , 0.97599614, 1.948216  , ..., 0.        , 0.        ,\n",
      "        0.97468305]], dtype=float32), 31: array([[0.        , 0.14080203, 1.7786269 , ..., 0.        , 0.        ,\n",
      "        0.635067  ]], dtype=float32), 32: array([[0.        , 1.0645915 , 1.7489357 , ..., 0.        , 0.        ,\n",
      "        0.91069025]], dtype=float32), 33: array([[0.       , 0.9688105, 1.6516309, ..., 0.       , 0.       ,\n",
      "        0.8734649]], dtype=float32), 34: array([[0.        , 0.9437769 , 2.2213373 , ..., 0.        , 0.        ,\n",
      "        0.54180133]], dtype=float32), 35: array([[0.        , 0.15443608, 1.8166499 , ..., 0.        , 0.        ,\n",
      "        0.74481905]], dtype=float32), 36: array([[0.        , 1.2976737 , 1.7488462 , ..., 0.        , 0.        ,\n",
      "        0.29533768]], dtype=float32), 37: array([[0.        , 0.44502127, 1.7266529 , ..., 0.        , 0.        ,\n",
      "        0.33840078]], dtype=float32), 38: array([[0.       , 1.0234942, 1.8433125, ..., 0.       , 0.       ,\n",
      "        1.0958793]], dtype=float32), 39: array([[0.       , 1.5023031, 2.2324553, ..., 0.       , 0.       ,\n",
      "        1.0424478]], dtype=float32), 40: array([[0.        , 0.6824378 , 1.8466507 , ..., 0.        , 0.        ,\n",
      "        0.68554205]], dtype=float32), 41: array([[0.        , 0.29227287, 2.1792755 , ..., 0.        , 0.        ,\n",
      "        0.7998259 ]], dtype=float32), 42: array([[0.        , 1.0044944 , 1.7526889 , ..., 0.        , 0.        ,\n",
      "        0.16844898]], dtype=float32), 43: array([[0.       , 0.9795684, 1.708973 , ..., 0.       , 0.       ,\n",
      "        0.       ]], dtype=float32), 44: array([[0.        , 0.87271327, 1.987456  , ..., 0.        , 0.        ,\n",
      "        0.        ]], dtype=float32), 45: array([[0.       , 0.       , 3.1938577, ..., 0.       , 0.       ,\n",
      "        0.2735915]], dtype=float32), 46: array([[0.        , 1.1224625 , 1.4405186 , ..., 0.        , 0.        ,\n",
      "        0.76928437]], dtype=float32), 47: array([[0.        , 0.30561382, 1.4296455 , ..., 0.        , 0.        ,\n",
      "        0.6400689 ]], dtype=float32), 48: array([[0.        , 0.34421104, 2.072104  , ..., 0.        , 0.        ,\n",
      "        1.1704113 ]], dtype=float32), 49: array([[0.       , 0.5567354, 1.8357347, ..., 0.       , 0.       ,\n",
      "        0.6711334]], dtype=float32), 50: array([[0.        , 0.28100157, 2.3269024 , ..., 0.        , 0.        ,\n",
      "        0.43379176]], dtype=float32), 51: array([[0.       , 0.6057204, 1.7947539, ..., 0.       , 0.       ,\n",
      "        1.2548352]], dtype=float32), 52: array([[0.        , 0.        , 2.2848659 , ..., 0.        , 0.        ,\n",
      "        0.90144634]], dtype=float32), 53: array([[0.        , 0.82456386, 1.9915812 , ..., 0.        , 0.        ,\n",
      "        0.86115485]], dtype=float32), 54: array([[0.        , 0.32060206, 1.8517215 , ..., 0.        , 0.        ,\n",
      "        0.22950825]], dtype=float32), 55: array([[0.        , 0.20785445, 1.9813143 , ..., 0.        , 0.        ,\n",
      "        0.65877795]], dtype=float32), 56: array([[0.        , 1.0477287 , 1.5572405 , ..., 0.        , 0.        ,\n",
      "        0.21961647]], dtype=float32), 57: array([[0.        , 0.5665424 , 1.6497788 , ..., 0.        , 0.        ,\n",
      "        0.73914415]], dtype=float32), 58: array([[0.        , 0.4083444 , 1.696717  , ..., 0.        , 0.        ,\n",
      "        0.53995705]], dtype=float32), 59: array([[0.        , 0.8617673 , 1.5833352 , ..., 0.        , 0.        ,\n",
      "        0.56608576]], dtype=float32), 60: array([[0.        , 0.62447697, 1.5107172 , ..., 0.        , 0.        ,\n",
      "        0.73353153]], dtype=float32), 61: array([[0.        , 0.70507425, 1.2328422 , ..., 0.        , 0.        ,\n",
      "        0.46857303]], dtype=float32), 62: array([[0.        , 0.55668545, 1.7924367 , ..., 0.        , 0.        ,\n",
      "        0.9860294 ]], dtype=float32), 63: array([[0.        , 0.38301557, 2.0413513 , ..., 0.        , 0.        ,\n",
      "        0.8716312 ]], dtype=float32), 64: array([[0.        , 0.        , 2.1803758 , ..., 0.        , 0.        ,\n",
      "        0.58683145]], dtype=float32), 65: array([[0.       , 0.4976991, 1.3018746, ..., 0.       , 0.       ,\n",
      "        0.4588294]], dtype=float32), 66: array([[0.        , 0.11863002, 1.5100398 , ..., 0.        , 0.        ,\n",
      "        0.38629177]], dtype=float32), 67: array([[0.        , 0.09672749, 1.3991086 , ..., 0.        , 0.        ,\n",
      "        0.42296192]], dtype=float32), 68: array([[0.        , 0.00994778, 1.7461686 , ..., 0.        , 0.        ,\n",
      "        0.20517501]], dtype=float32), 69: array([[0.       , 0.       , 1.9619831, ..., 0.       , 0.       ,\n",
      "        0.5171628]], dtype=float32), 70: array([[0.       , 0.       , 1.4881332, ..., 0.       , 0.       ,\n",
      "        0.4716112]], dtype=float32), 71: array([[0.        , 0.        , 1.7779803 , ..., 0.        , 0.        ,\n",
      "        0.89462316]], dtype=float32), 72: array([[0.       , 0.       , 1.7348944, ..., 0.       , 0.       ,\n",
      "        0.6154573]], dtype=float32), 73: array([[0.       , 0.       , 1.874483 , ..., 0.       , 0.       ,\n",
      "        0.9822427]], dtype=float32), 74: array([[0.       , 0.       , 1.8398902, ..., 0.       , 0.       ,\n",
      "        0.8495737]], dtype=float32), 75: array([[0.       , 0.       , 1.9298928, ..., 0.       , 0.       ,\n",
      "        0.8522522]], dtype=float32), 76: array([[0.       , 0.       , 1.7078787, ..., 0.       , 0.       ,\n",
      "        0.6559039]], dtype=float32), 77: array([[0.       , 0.       , 1.8121235, ..., 0.       , 0.       ,\n",
      "        0.9193301]], dtype=float32), 78: array([[0.       , 0.       , 1.3447958, ..., 0.       , 0.       ,\n",
      "        0.5418078]], dtype=float32), 79: array([[0.       , 0.       , 1.6819514, ..., 0.       , 0.       ,\n",
      "        0.6885131]], dtype=float32), 80: array([[0.        , 0.        , 1.5266719 , ..., 0.        , 0.        ,\n",
      "        0.80650955]], dtype=float32), 81: array([[0.       , 0.       , 1.6610088, ..., 0.       , 0.       ,\n",
      "        0.7111904]], dtype=float32), 82: array([[0.        , 0.60644084, 1.3545532 , ..., 0.        , 0.        ,\n",
      "        1.0828365 ]], dtype=float32), 83: array([[0.       , 0.9893395, 1.4959004, ..., 0.       , 0.       ,\n",
      "        1.1667833]], dtype=float32), 84: array([[0.       , 0.9881047, 1.4716723, ..., 0.       , 0.       ,\n",
      "        0.7692705]], dtype=float32), 85: array([[0.       , 0.       , 2.034851 , ..., 0.       , 0.       ,\n",
      "        0.7480762]], dtype=float32), 86: array([[0.       , 0.       , 2.074341 , ..., 0.       , 0.       ,\n",
      "        1.1669884]], dtype=float32), 87: array([[0.       , 0.       , 2.094352 , ..., 0.       , 0.       ,\n",
      "        1.6374798]], dtype=float32), 88: array([[0.        , 0.        , 1.9757824 , ..., 0.        , 0.        ,\n",
      "        0.99653786]], dtype=float32), 89: array([[0.        , 0.        , 1.7379603 , ..., 0.        , 0.        ,\n",
      "        0.89792013]], dtype=float32), 90: array([[0.       , 0.       , 1.7948798, ..., 0.       , 0.       ,\n",
      "        1.0272465]], dtype=float32), 91: array([[0.       , 0.       , 2.120801 , ..., 0.       , 0.       ,\n",
      "        1.1801479]], dtype=float32), 92: array([[0.       , 0.       , 2.1991076, ..., 0.       , 0.       ,\n",
      "        1.1935059]], dtype=float32), 93: array([[0.       , 0.       , 1.6107379, ..., 0.       , 0.       ,\n",
      "        0.814957 ]], dtype=float32), 94: array([[0.       , 0.       , 2.181768 , ..., 0.       , 0.       ,\n",
      "        1.0065917]], dtype=float32), 95: array([[0.       , 0.       , 2.228937 , ..., 0.       , 0.       ,\n",
      "        0.8797809]], dtype=float32), 96: array([[0.       , 0.       , 1.6860067, ..., 0.       , 0.       ,\n",
      "        1.1010197]], dtype=float32), 97: array([[0.       , 0.       , 2.2082765, ..., 0.       , 0.       ,\n",
      "        0.7682805]], dtype=float32), 98: array([[0.       , 0.       , 1.8010241, ..., 0.       , 0.       ,\n",
      "        0.7446856]], dtype=float32), 99: array([[0.        , 0.        , 1.6125762 , ..., 0.        , 0.        ,\n",
      "        0.67799205]], dtype=float32), 100: array([[0.       , 0.       , 1.6865962, ..., 0.       , 0.       ,\n",
      "        0.9360192]], dtype=float32), 101: array([[0.       , 0.       , 1.7216318, ..., 0.       , 0.       ,\n",
      "        0.6349011]], dtype=float32), 102: array([[0.        , 0.8410204 , 1.5159411 , ..., 0.        , 0.        ,\n",
      "        0.85077006]], dtype=float32), 103: array([[0.       , 1.1099606, 1.7459162, ..., 0.       , 0.       ,\n",
      "        0.8408937]], dtype=float32), 104: array([[0.        , 0.74492836, 1.5954953 , ..., 0.        , 0.        ,\n",
      "        0.6016661 ]], dtype=float32), 105: array([[0.        , 0.65141857, 1.6090702 , ..., 0.        , 0.        ,\n",
      "        0.32458854]], dtype=float32), 106: array([[0.        , 0.38566166, 1.7578938 , ..., 0.        , 0.        ,\n",
      "        0.74899054]], dtype=float32), 107: array([[0.       , 0.5063397, 2.269241 , ..., 0.       , 0.       ,\n",
      "        0.5786899]], dtype=float32), 108: array([[0.        , 0.98443234, 1.8306144 , ..., 0.        , 0.        ,\n",
      "        0.28013977]], dtype=float32), 109: array([[0.        , 0.62535644, 1.8593069 , ..., 0.        , 0.        ,\n",
      "        0.63411146]], dtype=float32), 110: array([[0.        , 0.3615119 , 1.8677232 , ..., 0.        , 0.        ,\n",
      "        0.61458933]], dtype=float32), 111: array([[0.        , 0.26412058, 2.2894783 , ..., 0.        , 0.        ,\n",
      "        0.77698773]], dtype=float32), 112: array([[0.        , 0.34966478, 1.7716651 , ..., 0.        , 0.        ,\n",
      "        0.71504545]], dtype=float32), 113: array([[0.        , 0.11925527, 1.2643758 , ..., 0.        , 0.        ,\n",
      "        0.49002486]], dtype=float32), 114: array([[0.       , 0.       , 1.405115 , ..., 0.       , 0.       ,\n",
      "        0.2496964]], dtype=float32), 115: array([[0.       , 0.       , 1.5539292, ..., 0.       , 0.       ,\n",
      "        0.4851858]], dtype=float32), 116: array([[0.        , 0.        , 1.5077302 , ..., 0.        , 0.        ,\n",
      "        0.46975097]], dtype=float32), 117: array([[0.       , 0.3880977, 1.5953135, ..., 0.       , 0.       ,\n",
      "        0.7388013]], dtype=float32), 118: array([[0.       , 0.       , 2.2258303, ..., 0.       , 0.       ,\n",
      "        1.3285928]], dtype=float32), 119: array([[0.       , 0.       , 2.126966 , ..., 0.       , 0.       ,\n",
      "        1.1779625]], dtype=float32), 120: array([[0.       , 0.       , 1.9874302, ..., 0.       , 0.       ,\n",
      "        0.9730674]], dtype=float32), 121: array([[0.        , 0.        , 2.0288005 , ..., 0.        , 0.        ,\n",
      "        0.76338226]], dtype=float32), 122: array([[0.      , 0.      , 1.972385, ..., 0.      , 0.      , 0.594629]],\n",
      "      dtype=float32), 123: array([[0.       , 0.       , 2.518475 , ..., 0.       , 0.       ,\n",
      "        0.9855945]], dtype=float32), 124: array([[0.       , 0.       , 2.381938 , ..., 0.       , 0.       ,\n",
      "        0.9677287]], dtype=float32), 125: array([[0.       , 0.       , 2.2932181, ..., 0.       , 0.       ,\n",
      "        1.2329059]], dtype=float32), 126: array([[0.       , 0.       , 2.1869748, ..., 0.       , 0.       ,\n",
      "        0.731913 ]], dtype=float32), 127: array([[0.        , 0.0334928 , 1.5517612 , ..., 0.        , 0.        ,\n",
      "        0.71377176]], dtype=float32), 128: array([[0.        , 0.09471321, 1.6118929 , ..., 0.        , 0.        ,\n",
      "        0.679697  ]], dtype=float32), 129: array([[0.        , 0.32948017, 1.3173233 , ..., 0.        , 0.        ,\n",
      "        0.5542473 ]], dtype=float32), 130: array([[0.        , 0.11538115, 1.5657191 , ..., 0.        , 0.        ,\n",
      "        0.3058865 ]], dtype=float32), 131: array([[0.       , 0.3256375, 1.3599837, ..., 0.       , 0.       ,\n",
      "        0.4221728]], dtype=float32), 132: array([[0.       , 0.5685284, 2.1458597, ..., 0.       , 0.       ,\n",
      "        1.1035681]], dtype=float32), 133: array([[0.        , 0.35021156, 2.2795084 , ..., 0.        , 0.        ,\n",
      "        1.0352592 ]], dtype=float32), 134: array([[0.        , 0.60712767, 1.9414457 , ..., 0.        , 0.        ,\n",
      "        0.7847393 ]], dtype=float32), 135: array([[0.        , 0.37102535, 2.1211777 , ..., 0.        , 0.        ,\n",
      "        1.1398859 ]], dtype=float32), 136: array([[0.        , 0.95624495, 1.4539554 , ..., 0.        , 0.        ,\n",
      "        0.6291898 ]], dtype=float32), 137: array([[0.        , 0.46745002, 1.7535263 , ..., 0.        , 0.        ,\n",
      "        0.8695868 ]], dtype=float32), 138: array([[0.        , 0.89158636, 1.6659071 , ..., 0.        , 0.        ,\n",
      "        0.92829645]], dtype=float32), 139: array([[0.        , 0.65968645, 1.7106208 , ..., 0.        , 0.        ,\n",
      "        0.6704885 ]], dtype=float32), 140: array([[0.        , 0.83650863, 1.6795882 , ..., 0.        , 0.        ,\n",
      "        0.79370844]], dtype=float32), 141: array([[0.       , 0.6956555, 1.9080646, ..., 0.       , 0.       ,\n",
      "        0.9118623]], dtype=float32), 142: array([[0.        , 0.89789426, 1.7481378 , ..., 0.        , 0.        ,\n",
      "        0.6744121 ]], dtype=float32), 143: array([[0.        , 0.37610415, 1.797124  , ..., 0.        , 0.        ,\n",
      "        0.8387175 ]], dtype=float32), 144: array([[0.        , 0.2529099 , 2.0825133 , ..., 0.09999472, 0.        ,\n",
      "        0.90888274]], dtype=float32), 145: array([[0.        , 0.7889743 , 2.3893766 , ..., 0.        , 0.        ,\n",
      "        0.90475684]], dtype=float32), 146: array([[0.        , 0.41636807, 2.363378  , ..., 0.        , 0.        ,\n",
      "        0.61421716]], dtype=float32), 147: array([[0.        , 0.73691213, 1.7810233 , ..., 0.        , 0.        ,\n",
      "        0.16713667]], dtype=float32), 148: array([[0.        , 0.6634756 , 2.454413  , ..., 0.        , 0.        ,\n",
      "        0.49843717]], dtype=float32), 149: array([[0.        , 0.3804323 , 2.1102526 , ..., 0.        , 0.        ,\n",
      "        0.76928246]], dtype=float32), 150: array([[0.       , 0.7154285, 2.3260632, ..., 0.       , 0.       ,\n",
      "        0.       ]], dtype=float32), 151: array([[0.        , 0.29628983, 2.2286167 , ..., 0.        , 0.        ,\n",
      "        0.6399782 ]], dtype=float32), 152: array([[0.        , 0.39950943, 2.262484  , ..., 0.        , 0.        ,\n",
      "        0.5943724 ]], dtype=float32), 153: array([[0.        , 0.28372484, 1.7253082 , ..., 0.        , 0.        ,\n",
      "        0.48326665]], dtype=float32), 154: array([[0.        , 0.00649372, 2.3447702 , ..., 0.        , 0.        ,\n",
      "        1.0851789 ]], dtype=float32), 155: array([[0.       , 0.       , 2.3176632, ..., 0.       , 0.       ,\n",
      "        0.7363997]], dtype=float32), 156: array([[0.        , 0.05482906, 2.5525591 , ..., 0.        , 0.        ,\n",
      "        0.4736481 ]], dtype=float32), 157: array([[0.        , 0.        , 2.721218  , ..., 0.        , 0.        ,\n",
      "        0.29851308]], dtype=float32), 158: array([[0.        , 1.0103874 , 1.6046541 , ..., 0.        , 0.        ,\n",
      "        0.49756655]], dtype=float32), 159: array([[0.        , 1.4358315 , 1.1784221 , ..., 0.        , 0.        ,\n",
      "        0.15931094]], dtype=float32), 160: array([[0.       , 1.6453536, 1.1353812, ..., 0.       , 0.       ,\n",
      "        0.       ]], dtype=float32), 161: array([[0.       , 1.247785 , 1.9033571, ..., 0.       , 0.       ,\n",
      "        0.4719724]], dtype=float32), 162: array([[0.        , 1.0544517 , 2.0068407 , ..., 0.        , 0.        ,\n",
      "        0.49328178]], dtype=float32), 163: array([[0.       , 0.       , 3.1161485, ..., 0.       , 0.       ,\n",
      "        1.0783424]], dtype=float32), 164: array([[0.       , 0.       , 2.7769308, ..., 0.       , 0.       ,\n",
      "        1.072645 ]], dtype=float32), 165: array([[0.       , 0.       , 2.3924947, ..., 0.       , 0.       ,\n",
      "        1.000556 ]], dtype=float32), 166: array([[0.       , 0.       , 2.3924947, ..., 0.       , 0.       ,\n",
      "        1.000556 ]], dtype=float32), 167: array([[0.       , 0.337721 , 2.675469 , ..., 0.       , 0.       ,\n",
      "        1.3721638]], dtype=float32), 168: array([[0.       , 0.       , 2.2023945, ..., 0.       , 0.       ,\n",
      "        0.8790156]], dtype=float32), 169: array([[0.        , 0.        , 2.1319199 , ..., 0.        , 0.        ,\n",
      "        0.83569396]], dtype=float32), 170: array([[0.       , 0.       , 2.1597674, ..., 0.       , 0.       ,\n",
      "        0.8155289]], dtype=float32), 171: array([[0.        , 0.9884722 , 1.4318612 , ..., 0.        , 0.        ,\n",
      "        0.71965605]], dtype=float32), 172: array([[0.        , 0.5102844 , 1.9769608 , ..., 0.        , 0.        ,\n",
      "        0.50089014]], dtype=float32), 173: array([[0.        , 1.4156445 , 1.2168138 , ..., 0.        , 0.        ,\n",
      "        0.35927916]], dtype=float32), 174: array([[0.       , 0.       , 2.5935025, ..., 0.       , 0.       ,\n",
      "        1.1035186]], dtype=float32), 175: array([[0.        , 0.5271281 , 1.2521    , ..., 0.        , 0.        ,\n",
      "        0.51444703]], dtype=float32), 176: array([[0.        , 0.08419815, 1.6976707 , ..., 0.        , 0.        ,\n",
      "        0.9260088 ]], dtype=float32), 177: array([[0.       , 0.       , 2.1602762, ..., 0.       , 0.       ,\n",
      "        1.1079253]], dtype=float32), 178: array([[0.        , 0.43335512, 1.4614899 , ..., 0.        , 0.        ,\n",
      "        0.24318498]], dtype=float32), 179: array([[0.        , 0.47008002, 2.0600886 , ..., 0.        , 0.        ,\n",
      "        0.95999765]], dtype=float32), 180: array([[0.       , 0.3705996, 1.65974  , ..., 0.       , 0.       ,\n",
      "        0.6752198]], dtype=float32), 181: array([[0.       , 0.3709247, 1.3215023, ..., 0.       , 0.       ,\n",
      "        0.3054276]], dtype=float32), 182: array([[0.       , 0.1616461, 1.6769606, ..., 0.       , 0.       ,\n",
      "        0.7122673]], dtype=float32), 183: array([[0.       , 0.       , 2.4172199, ..., 0.       , 0.       ,\n",
      "        1.1000091]], dtype=float32), 184: array([[0.        , 0.4935059 , 1.2381    , ..., 0.        , 0.        ,\n",
      "        0.38118917]], dtype=float32), 185: array([[0.        , 1.0601529 , 1.8263602 , ..., 0.        , 0.        ,\n",
      "        0.51041615]], dtype=float32), 186: array([[0.       , 0.8293252, 1.6736745, ..., 0.       , 0.       ,\n",
      "        0.746063 ]], dtype=float32), 187: array([[0.       , 0.766834 , 1.8178339, ..., 0.       , 0.       ,\n",
      "        0.9421966]], dtype=float32), 188: array([[0.        , 0.12841374, 1.6391486 , ..., 0.        , 0.        ,\n",
      "        0.8034327 ]], dtype=float32), 189: array([[0.        , 0.15991223, 2.073462  , ..., 0.        , 0.        ,\n",
      "        0.86467636]], dtype=float32), 190: array([[0.       , 0.       , 2.3649883, ..., 0.       , 0.       ,\n",
      "        1.2320645]], dtype=float32), 191: array([[0.       , 0.       , 2.1869369, ..., 0.       , 0.       ,\n",
      "        1.1135751]], dtype=float32), 192: array([[0.        , 0.05990019, 1.6397003 , ..., 0.        , 0.        ,\n",
      "        0.8951261 ]], dtype=float32), 193: array([[0.       , 0.       , 2.6232538, ..., 0.       , 0.       ,\n",
      "        1.0932803]], dtype=float32), 194: array([[0.        , 0.07474083, 2.3576918 , ..., 0.        , 0.        ,\n",
      "        1.083042  ]], dtype=float32), 195: array([[0.       , 0.       , 3.1562152, ..., 0.       , 0.       ,\n",
      "        1.7273588]], dtype=float32), 196: array([[0.        , 0.28919816, 1.8762045 , ..., 0.        , 0.        ,\n",
      "        1.0061591 ]], dtype=float32), 197: array([[0.       , 0.       , 2.3845415, ..., 0.       , 0.       ,\n",
      "        1.1429288]], dtype=float32), 198: array([[0.       , 0.       , 2.4008756, ..., 0.       , 0.       ,\n",
      "        0.9632642]], dtype=float32), 199: array([[0.       , 0.       , 2.2333379, ..., 0.       , 0.       ,\n",
      "        1.0542483]], dtype=float32), 200: array([[0.       , 0.       , 1.8595619, ..., 0.       , 0.       ,\n",
      "        1.0947481]], dtype=float32), 201: array([[0.       , 0.       , 2.0955126, ..., 0.       , 0.       ,\n",
      "        1.3881595]], dtype=float32), 202: array([[0.       , 0.       , 1.8326633, ..., 0.       , 0.       ,\n",
      "        1.0557243]], dtype=float32), 203: array([[0.       , 0.2424761, 2.2621393, ..., 0.       , 0.       ,\n",
      "        1.0292238]], dtype=float32), 204: array([[0.       , 0.       , 1.8056816, ..., 0.       , 0.       ,\n",
      "        1.0736594]], dtype=float32), 205: array([[0.       , 0.       , 1.9330051, ..., 0.       , 0.       ,\n",
      "        1.4541464]], dtype=float32), 206: array([[0.       , 0.       , 2.326547 , ..., 0.       , 0.       ,\n",
      "        1.8334372]], dtype=float32), 207: array([[0.       , 0.       , 2.0361516, ..., 0.       , 0.       ,\n",
      "        1.5377533]], dtype=float32), 208: array([[0.       , 0.       , 1.9353558, ..., 0.       , 0.       ,\n",
      "        1.2518549]], dtype=float32), 209: array([[0.       , 0.       , 2.3196082, ..., 0.       , 0.       ,\n",
      "        1.374778 ]], dtype=float32), 210: array([[0.       , 0.       , 2.1907597, ..., 0.       , 0.       ,\n",
      "        1.1414187]], dtype=float32), 211: array([[0.       , 0.       , 2.0140262, ..., 0.       , 0.       ,\n",
      "        1.1178409]], dtype=float32), 212: array([[0.        , 0.20587575, 2.7155752 , ..., 0.        , 0.        ,\n",
      "        1.9358902 ]], dtype=float32), 213: array([[0.       , 0.       , 2.0567122, ..., 0.       , 0.       ,\n",
      "        1.2936882]], dtype=float32), 214: array([[0.      , 0.      , 2.366348, ..., 0.      , 0.      , 1.968601]],\n",
      "      dtype=float32), 215: array([[0.       , 0.       , 2.51371  , ..., 0.       , 0.       ,\n",
      "        1.3923438]], dtype=float32), 216: array([[0.       , 0.       , 1.9854127, ..., 0.       , 0.       ,\n",
      "        1.0044374]], dtype=float32), 217: array([[0.       , 0.       , 2.161232 , ..., 0.       , 0.       ,\n",
      "        1.8517196]], dtype=float32), 218: array([[0.       , 0.       , 2.1261039, ..., 0.       , 0.       ,\n",
      "        1.3468249]], dtype=float32), 219: array([[0.       , 0.       , 2.3181045, ..., 0.       , 0.       ,\n",
      "        2.0442495]], dtype=float32), 220: array([[0.       , 0.       , 2.5926075, ..., 0.       , 0.       ,\n",
      "        1.2284667]], dtype=float32), 221: array([[0.       , 0.       , 2.8450842, ..., 0.       , 0.       ,\n",
      "        1.3182607]], dtype=float32), 222: array([[0.       , 0.       , 2.5817919, ..., 0.       , 0.       ,\n",
      "        0.9767033]], dtype=float32), 223: array([[0.        , 0.        , 1.4939444 , ..., 0.        , 0.        ,\n",
      "        0.68675834]], dtype=float32), 224: array([[0.        , 0.        , 1.9435635 , ..., 0.        , 0.        ,\n",
      "        0.74947023]], dtype=float32), 225: array([[0.        , 0.        , 1.9903018 , ..., 0.        , 0.        ,\n",
      "        0.67443174]], dtype=float32), 226: array([[0.       , 0.       , 2.004618 , ..., 0.       , 0.       ,\n",
      "        0.7702952]], dtype=float32), 227: array([[0.       , 0.       , 1.8786402, ..., 0.       , 0.       ,\n",
      "        0.5923486]], dtype=float32), 228: array([[0.       , 0.       , 1.7970024, ..., 0.       , 0.       ,\n",
      "        1.4099728]], dtype=float32), 229: array([[0.       , 0.       , 1.837071 , ..., 0.       , 0.       ,\n",
      "        0.7131699]], dtype=float32), 230: array([[0.       , 0.       , 1.8948611, ..., 0.       , 0.       ,\n",
      "        0.8884239]], dtype=float32), 231: array([[0.       , 0.       , 2.2544248, ..., 0.       , 0.       ,\n",
      "        0.8811277]], dtype=float32), 232: array([[0.        , 0.39462644, 1.6731434 , ..., 0.        , 0.        ,\n",
      "        0.7840004 ]], dtype=float32), 233: array([[0.        , 1.0592328 , 2.23131   , ..., 0.        , 0.        ,\n",
      "        0.18339652]], dtype=float32), 234: array([[0.        , 0.6398457 , 1.6347904 , ..., 0.        , 0.        ,\n",
      "        0.32304782]], dtype=float32), 235: array([[0.        , 0.8737661 , 1.6410202 , ..., 0.        , 0.        ,\n",
      "        0.26003134]], dtype=float32), 236: array([[0.        , 0.65595496, 3.1151156 , ..., 0.        , 0.        ,\n",
      "        0.8609666 ]], dtype=float32), 237: array([[0.        , 0.70440865, 2.7174087 , ..., 0.        , 0.        ,\n",
      "        0.35827452]], dtype=float32), 238: array([[0.       , 0.6088655, 1.7307055, ..., 0.       , 0.       ,\n",
      "        0.6262516]], dtype=float32), 239: array([[0.       , 0.8844996, 2.3199463, ..., 0.       , 0.       ,\n",
      "        0.5731338]], dtype=float32), 240: array([[0.        , 0.24104948, 2.9797187 , ..., 0.        , 0.        ,\n",
      "        0.51534164]], dtype=float32), 241: array([[0.       , 0.8698404, 1.6862384, ..., 0.       , 0.       ,\n",
      "        0.4895277]], dtype=float32), 242: array([[0.        , 1.6044784 , 1.9236817 , ..., 0.        , 0.        ,\n",
      "        0.29487202]], dtype=float32), 243: array([[0.        , 0.85602856, 3.7827039 , ..., 0.        , 0.        ,\n",
      "        0.202981  ]], dtype=float32), 244: array([[0.       , 0.6465524, 3.5582256, ..., 0.       , 0.       ,\n",
      "        0.4469177]], dtype=float32), 245: array([[0.        , 0.37845668, 3.9586878 , ..., 0.        , 0.        ,\n",
      "        0.3197742 ]], dtype=float32), 246: array([[0.        , 0.55694115, 3.6089878 , ..., 0.        , 0.        ,\n",
      "        0.5517931 ]], dtype=float32), 247: array([[0.        , 0.4114377 , 3.278296  , ..., 0.        , 0.        ,\n",
      "        0.83339304]], dtype=float32), 248: array([[0.        , 0.4004153 , 2.8167892 , ..., 0.        , 0.        ,\n",
      "        0.72773486]], dtype=float32), 249: array([[0.        , 0.        , 4.080221  , ..., 0.        , 0.        ,\n",
      "        0.46811494]], dtype=float32), 250: array([[0.        , 0.        , 3.7607336 , ..., 0.        , 0.        ,\n",
      "        0.53780377]], dtype=float32), 251: array([[0.       , 0.1647959, 2.5779853, ..., 0.       , 0.       ,\n",
      "        1.0720818]], dtype=float32), 252: array([[0.        , 1.0654956 , 1.2796012 , ..., 0.        , 0.        ,\n",
      "        0.32224402]], dtype=float32), 253: array([[0.        , 0.08521646, 3.1575394 , ..., 0.        , 0.        ,\n",
      "        0.4683743 ]], dtype=float32), 254: array([[0.        , 0.26331234, 1.9135772 , ..., 0.        , 0.        ,\n",
      "        0.937479  ]], dtype=float32)}\n"
     ]
    }
   ],
   "source": [
    "print(data)"
   ]
  },
  {
   "cell_type": "code",
   "execution_count": 39,
   "metadata": {},
   "outputs": [
    {
     "name": "stdout",
     "output_type": "stream",
     "text": [
      "(255, 1, 4096)\n",
      "[[[0.         0.21771693 1.4746828  ... 0.         0.         0.6488475 ]]\n",
      "\n",
      " [[0.         0.45234498 1.9746944  ... 0.         0.         0.8316392 ]]\n",
      "\n",
      " [[0.         0.11669675 2.1385043  ... 0.         0.         0.8627497 ]]\n",
      "\n",
      " ...\n",
      "\n",
      " [[0.         1.0654956  1.2796012  ... 0.         0.         0.32224402]]\n",
      "\n",
      " [[0.         0.08521646 3.1575394  ... 0.         0.         0.4683743 ]]\n",
      "\n",
      " [[0.         0.26331234 1.9135772  ... 0.         0.         0.937479  ]]]\n"
     ]
    }
   ],
   "source": [
    "# get a list of just the features\n",
    "feat = np.array(list(data.values()))\n",
    "print(feat.shape)\n",
    "print(feat)\n",
    "# reshape so that there are 210 samples of 4096 vectors\n",
    "feat = feat.reshape(-1,4096)"
   ]
  },
  {
   "cell_type": "code",
   "execution_count": 40,
   "metadata": {},
   "outputs": [
    {
     "name": "stdout",
     "output_type": "stream",
     "text": [
      "(255, 4096)\n"
     ]
    }
   ],
   "source": [
    "print(feat.shape)"
   ]
  },
  {
   "cell_type": "code",
   "execution_count": 41,
   "metadata": {},
   "outputs": [],
   "source": [
    "# reduce the amount of dimensions in the feature vector\n",
    "pca = PCA(n_components=100, random_state=22)\n",
    "pca.fit(feat)\n",
    "x = pca.transform(feat)"
   ]
  },
  {
   "cell_type": "code",
   "execution_count": 42,
   "metadata": {},
   "outputs": [],
   "source": [
    "# Initialize KMeans with 3 clusters\n",
    "kmeans = KMeans(n_clusters=3)\n",
    "# Fit the KMeans model to the data\n",
    "kmeans.fit(x)\n",
    "\n",
    "# Get the cluster labels for each data point\n",
    "labels = kmeans.labels_\n",
    "\n",
    "# Get the centroids of each cluster\n",
    "centroids = kmeans.cluster_centers_"
   ]
  },
  {
   "cell_type": "code",
   "execution_count": 43,
   "metadata": {},
   "outputs": [
    {
     "data": {
      "image/png": "[encoded data removed]",
      "text/plain": [
       "<Figure size 720x576 with 1 Axes>"
      ]
     },
     "metadata": {
      "needs_background": "light"
     },
     "output_type": "display_data"
    }
   ],
   "source": [
    "# Apply dimensionality reduction using pca\n",
    "pca_vis = PCA(n_components=2, random_state=42)\n",
    "reduced_features = pca_vis.fit_transform(x)\n",
    "# Plot the data points with different colors for each cluster\n",
    "plt.figure(figsize=(10, 8))\n",
    "plt.scatter(reduced_features[:, 0], reduced_features[:, 1], c=labels, cmap='rainbow')\n",
    "plt.xlabel('F1', fontsize=14, fontweight='bold')\n",
    "plt.ylabel('F2', fontsize=14, fontweight='bold')\n",
    "plt.xticks(fontsize=12)\n",
    "plt.yticks(fontsize=12)\n",
    "plt.show()"
   ]
  },
  {
   "cell_type": "code",
   "execution_count": 44,
   "metadata": {},
   "outputs": [
    {
     "name": "stdout",
     "output_type": "stream",
     "text": [
      "The average silhouette score is: 0.1879739910364151\n"
     ]
    }
   ],
   "source": [
    "# Calculate the silhouette score\n",
    "silhouette_avg = silhouette_score(x, labels)\n",
    "\n",
    "print(f\"The average silhouette score is: {silhouette_avg}\")"
   ]
  },
  {
   "attachments": {},
   "cell_type": "markdown",
   "metadata": {},
   "source": [
    "## Manual Features "
   ]
  },
  {
   "cell_type": "code",
   "execution_count": 32,
   "metadata": {},
   "outputs": [],
   "source": [
    "# Define the number of clusters\n",
    "n_clusters = 2\n",
    "\n",
    "# Define the criteria for \"good\" or \"bad\" images\n",
    "criteria = [\"smoothness\"]\n",
    "eye_smoothness, eye_area, eye_perimeter, eye_var = [], [], [], []\n",
    "high_temp_smoothness, high_temp_area, high_temp_perimeter, high_temp_var = [], [], [], []\n",
    "\n",
    "\n",
    "# Get a list of file names in the directory\n",
    "file_names = os.listdir(\"dataset_features\")\n",
    "\n",
    "# Sort the list of file names alphabetically\n",
    "sorted_file_names = sorted(file_names, key=lambda x: int(x.split(\"_\")[0]))\n",
    "\n",
    "# Loop over all the images\n",
    "for filename in sorted_file_names:\n",
    "    \n",
    "    # Load image\n",
    "    if filename.endswith(\"eye.jpg\") :\n",
    "        index = int(filename.split(\"_\")[0])\n",
    "        img_index.append(index)\n",
    "\n",
    "        img_array = cv2.imread(os.path.join(\"dataset_features\", filename))\n",
    "\n",
    "        # convert the image to grayscale\n",
    "        gray = cv2.cvtColor(img_array, cv2.COLOR_BGR2GRAY)\n",
    "\n",
    "        # perform thresholding to separate the shapes from the background\n",
    "        thresh = cv2.threshold(gray, 127, 255, cv2.THRESH_BINARY)[1]\n",
    "\n",
    "        # perform contour detection\n",
    "        contours, hierarchy = cv2.findContours(thresh, cv2.RETR_EXTERNAL, cv2.CHAIN_APPROX_SIMPLE)\n",
    "\n",
    "        # draw the contours on the original image\n",
    "        cv2.drawContours(img_array, contours, -1, (0, 255, 0), 2)\n",
    "\n",
    "        # Apply Laplacian operator\n",
    "        laplacian = cv2.Laplacian(gray, cv2.CV_64F)\n",
    "\n",
    "        # Calculate the variance of the Laplacian image\n",
    "        variance = np.var(laplacian)\n",
    "        eye_var.append(variance)\n",
    "        \n",
    "        # Calculate the perimeter and smoothness of each shape\n",
    "        smoothness = []\n",
    "        area_ = []\n",
    "        perimeter_ = []\n",
    "        for contour in contours:\n",
    "            perimeter = cv2.arcLength(contour, True)\n",
    "            area = cv2.contourArea(contour)\n",
    "            area_.append(area)\n",
    "            perimeter_.append(perimeter)\n",
    "            smoothness.append(perimeter / (2 * np.sqrt(np.pi * area)))\n",
    "            \n",
    "        # Calculate the average smoothness of all shapes in the image\n",
    "        if len(smoothness) > 0:\n",
    "            avg_smoothness = np.mean(smoothness)\n",
    "            avg_area = np.mean(area)\n",
    "            avg_perimeter = np.mean(perimeter)\n",
    "        else:\n",
    "            avg_smoothness = 0\n",
    "            \n",
    "        eye_smoothness.append(avg_smoothness)\n",
    "        eye_area.append(avg_area)\n",
    "        eye_perimeter.append(avg_perimeter)\n",
    "\n",
    "    elif filename.endswith(\"thermal.jpg\"):\n",
    "        img_array = cv2.imread(os.path.join(\"dataset_features\", filename))\n",
    "\n",
    "        # convert the image to grayscale\n",
    "        gray = cv2.cvtColor(img_array, cv2.COLOR_BGR2GRAY)\n",
    "\n",
    "        # perform thresholding to separate the shapes from the background\n",
    "        thresh = cv2.threshold(gray, 127, 255, cv2.THRESH_BINARY)[1]\n",
    "\n",
    "        # perform contour detection\n",
    "        contours, hierarchy = cv2.findContours(thresh, cv2.RETR_EXTERNAL, cv2.CHAIN_APPROX_SIMPLE)\n",
    "\n",
    "        # draw the contours on the original image\n",
    "        cv2.drawContours(img_array, contours, -1, (0, 255, 0), 2)\n",
    "        \n",
    "        # Apply Laplacian operator\n",
    "        laplacian = cv2.Laplacian(gray, cv2.CV_64F)\n",
    "\n",
    "        # Calculate the variance of the Laplacian image\n",
    "        variance = np.var(laplacian)\n",
    "        high_temp_var.append(variance)\n",
    "\n",
    "\n",
    "       # Calculate the perimeter and smoothness of each shape\n",
    "        smoothness = []\n",
    "        area_ = []\n",
    "        perimeter_ = []\n",
    "        for contour in contours:\n",
    "            perimeter = cv2.arcLength(contour, True)\n",
    "            area = cv2.contourArea(contour)\n",
    "            area_.append(area)\n",
    "            perimeter_.append(perimeter)\n",
    "            smoothness.append(perimeter / (2 * np.sqrt(np.pi * area)))\n",
    "            \n",
    "        # Calculate the average smoothness of all shapes in the image\n",
    "        if len(smoothness) > 0:\n",
    "            avg_smoothness = np.mean(smoothness)\n",
    "            avg_area = np.mean(area)\n",
    "            avg_perimeter = np.mean(perimeter)\n",
    "        else:\n",
    "            avg_smoothness = 0\n",
    "            \n",
    "        high_temp_smoothness.append(avg_smoothness)\n",
    "        high_temp_area.append(avg_area)\n",
    "        high_temp_perimeter.append(avg_perimeter)\n",
    "\n",
    "\n",
    "\n",
    "        "
   ]
  },
  {
   "cell_type": "markdown",
   "metadata": {},
   "source": [
    "Average Intensity Calculation"
   ]
  },
  {
   "cell_type": "code",
   "execution_count": 5,
   "metadata": {},
   "outputs": [
    {
     "name": "stderr",
     "output_type": "stream",
     "text": [
      "C:\\Users\\akars\\AppData\\Roaming\\Python\\Python37\\site-packages\\numpy\\core\\fromnumeric.py:3441: RuntimeWarning: Mean of empty slice.\n",
      "  out=out, **kwargs)\n",
      "C:\\Users\\akars\\AppData\\Roaming\\Python\\Python37\\site-packages\\numpy\\core\\_methods.py:189: RuntimeWarning: invalid value encountered in double_scalars\n",
      "  ret = ret.dtype.type(ret / rcount)\n"
     ]
    },
    {
     "name": "stdout",
     "output_type": "stream",
     "text": [
      "{'0_eye.jpg': 255.0, '100_eye.jpg': 255.0, '101_eye.jpg': 255.0, '102_eye.jpg': 255.0, '103_eye.jpg': 255.0, '104_eye.jpg': 255.0, '105_eye.jpg': 255.0, '106_eye.jpg': 255.0, '107_eye.jpg': 255.0, '108_eye.jpg': 255.0, '109_eye.jpg': 255.0, '10_eye.jpg': 255.0, '110_eye.jpg': 255.0, '111_eye.jpg': 255.0, '112_eye.jpg': 255.0, '113_eye.jpg': 255.0, '114_eye.jpg': 255.0, '115_eye.jpg': 255.0, '116_eye.jpg': 255.0, '117_eye.jpg': 255.0, '118_eye.jpg': 255.0, '119_eye.jpg': 255.0, '11_eye.jpg': 255.0, '120_eye.jpg': 255.0, '121_eye.jpg': 255.0, '122_eye.jpg': 255.0, '123_eye.jpg': 255.0, '124_eye.jpg': 255.0, '125_eye.jpg': 255.0, '126_eye.jpg': 255.0, '127_eye.jpg': 255.0, '128_eye.jpg': 255.0, '129_eye.jpg': 255.0, '12_eye.jpg': 255.0, '130_eye.jpg': 255.0, '131_eye.jpg': 255.0, '132_eye.jpg': 255.0, '133_eye.jpg': 255.0, '134_eye.jpg': 255.0, '135_eye.jpg': 255.0, '136_eye.jpg': 255.0, '137_eye.jpg': 255.0, '138_eye.jpg': 255.0, '139_eye.jpg': 255.0, '13_eye.jpg': 255.0, '140_eye.jpg': 255.0, '141_eye.jpg': 255.0, '142_eye.jpg': 255.0, '143_eye.jpg': 255.0, '144_eye.jpg': 255.0, '145_eye.jpg': nan, '146_eye.jpg': 255.0, '147_eye.jpg': nan, '148_eye.jpg': nan, '149_eye.jpg': 255.0, '14_eye.jpg': 255.0, '150_eye.jpg': nan, '151_eye.jpg': 255.0, '152_eye.jpg': 255.0, '153_eye.jpg': 255.0, '154_eye.jpg': nan, '155_eye.jpg': 255.0, '156_eye.jpg': 255.0, '157_eye.jpg': 255.0, '158_eye.jpg': 255.0, '159_eye.jpg': 255.0, '15_eye.jpg': nan, '160_eye.jpg': nan, '161_eye.jpg': nan, '162_eye.jpg': 255.0, '163_eye.jpg': nan, '164_eye.jpg': nan, '165_eye.jpg': nan, '166_eye.jpg': nan, '167_eye.jpg': nan, '168_eye.jpg': nan, '169_eye.jpg': nan, '16_eye.jpg': 255.0, '170_eye.jpg': nan, '171_eye.jpg': nan, '172_eye.jpg': nan, '173_eye.jpg': nan, '174_eye.jpg': nan, '175_eye.jpg': nan, '176_eye.jpg': nan, '177_eye.jpg': nan, '178_eye.jpg': nan, '179_eye.jpg': nan, '17_eye.jpg': 255.0, '180_eye.jpg': nan, '181_eye.jpg': nan, '182_eye.jpg': nan, '183_eye.jpg': nan, '184_eye.jpg': nan, '185_eye.jpg': 255.0, '186_eye.jpg': nan, '187_eye.jpg': nan, '188_eye.jpg': nan, '189_eye.jpg': nan, '18_eye.jpg': 255.0, '190_eye.jpg': nan, '191_eye.jpg': nan, '192_eye.jpg': nan, '193_eye.jpg': nan, '194_eye.jpg': 255.0, '195_eye.jpg': nan, '196_eye.jpg': nan, '197_eye.jpg': nan, '198_eye.jpg': 255.0, '199_eye.jpg': 255.0, '19_eye.jpg': 255.0, '1_eye.jpg': 255.0, '200_eye.jpg': 255.0, '201_eye.jpg': 255.0, '202_eye.jpg': 255.0, '203_eye.jpg': 255.0, '204_eye.jpg': 255.0, '205_eye.jpg': 255.0, '206_eye.jpg': 255.0, '207_eye.jpg': 255.0, '208_eye.jpg': 255.0, '209_eye.jpg': 255.0, '20_eye.jpg': 255.0, '210_eye.jpg': 255.0, '211_eye.jpg': 255.0, '212_eye.jpg': 255.0, '213_eye.jpg': 255.0, '214_eye.jpg': 255.0, '215_eye.jpg': 255.0, '216_eye.jpg': 255.0, '217_eye.jpg': 255.0, '218_eye.jpg': 255.0, '219_eye.jpg': nan, '21_eye.jpg': 255.0, '220_eye.jpg': 255.0, '221_eye.jpg': 255.0, '222_eye.jpg': 255.0, '223_eye.jpg': 255.0, '224_eye.jpg': 255.0, '225_eye.jpg': 255.0, '226_eye.jpg': 255.0, '227_eye.jpg': nan, '228_eye.jpg': 255.0, '229_eye.jpg': nan, '22_eye.jpg': 255.0, '230_eye.jpg': 255.0, '231_eye.jpg': 255.0, '232_eye.jpg': 255.0, '233_eye.jpg': 255.0, '234_eye.jpg': 255.0, '235_eye.jpg': 255.0, '236_eye.jpg': 255.0, '237_eye.jpg': 255.0, '238_eye.jpg': 255.0, '239_eye.jpg': 255.0, '23_eye.jpg': 255.0, '240_eye.jpg': 255.0, '241_eye.jpg': 255.0, '242_eye.jpg': 255.0, '243_eye.jpg': nan, '244_eye.jpg': 255.0, '245_eye.jpg': 255.0, '246_eye.jpg': 255.0, '247_eye.jpg': nan, '248_eye.jpg': 255.0, '249_eye.jpg': 255.0, '24_eye.jpg': 255.0, '250_eye.jpg': 255.0, '251_eye.jpg': nan, '252_eye.jpg': nan, '253_eye.jpg': nan, '254_eye.jpg': nan, '25_eye.jpg': nan, '26_eye.jpg': nan, '27_eye.jpg': 255.0, '28_eye.jpg': nan, '29_eye.jpg': 255.0, '2_eye.jpg': 255.0, '30_eye.jpg': 255.0, '31_eye.jpg': nan, '32_eye.jpg': nan, '33_eye.jpg': 255.0, '34_eye.jpg': nan, '35_eye.jpg': 255.0, '36_eye.jpg': 255.0, '37_eye.jpg': 255.0, '38_eye.jpg': 255.0, '39_eye.jpg': 255.0, '3_eye.jpg': 255.0, '40_eye.jpg': 255.0, '41_eye.jpg': 255.0, '42_eye.jpg': nan, '43_eye.jpg': nan, '44_eye.jpg': 255.0, '45_eye.jpg': nan, '46_eye.jpg': nan, '47_eye.jpg': 255.0, '48_eye.jpg': 255.0, '49_eye.jpg': nan, '4_eye.jpg': 255.0, '50_eye.jpg': nan, '51_eye.jpg': 255.0, '52_eye.jpg': 255.0, '53_eye.jpg': nan, '54_eye.jpg': 255.0, '55_eye.jpg': 255.0, '56_eye.jpg': 255.0, '57_eye.jpg': 255.0, '58_eye.jpg': 255.0, '59_eye.jpg': 255.0, '5_eye.jpg': 255.0, '60_eye.jpg': 255.0, '61_eye.jpg': 255.0, '62_eye.jpg': 255.0, '63_eye.jpg': 255.0, '64_eye.jpg': 255.0, '65_eye.jpg': 255.0, '66_eye.jpg': 255.0, '67_eye.jpg': 255.0, '68_eye.jpg': 255.0, '69_eye.jpg': 255.0, '6_eye.jpg': 255.0, '70_eye.jpg': 255.0, '71_eye.jpg': 255.0, '72_eye.jpg': 255.0, '73_eye.jpg': 255.0, '74_eye.jpg': 255.0, '75_eye.jpg': 255.0, '76_eye.jpg': 255.0, '77_eye.jpg': 255.0, '78_eye.jpg': 255.0, '79_eye.jpg': nan, '7_eye.jpg': 255.0, '80_eye.jpg': 255.0, '81_eye.jpg': 255.0, '82_eye.jpg': 255.0, '83_eye.jpg': 255.0, '84_eye.jpg': 255.0, '85_eye.jpg': 255.0, '86_eye.jpg': 255.0, '87_eye.jpg': 255.0, '88_eye.jpg': 255.0, '89_eye.jpg': 255.0, '8_eye.jpg': nan, '90_eye.jpg': 255.0, '91_eye.jpg': 255.0, '92_eye.jpg': 255.0, '93_eye.jpg': 255.0, '94_eye.jpg': 255.0, '95_eye.jpg': 255.0, '96_eye.jpg': 255.0, '97_eye.jpg': 255.0, '98_eye.jpg': 255.0, '99_eye.jpg': 255.0, '9_eye.jpg': nan}\n",
      "{'0_thermal.jpg': 255.0, '100_thermal.jpg': 255.0, '101_thermal.jpg': 255.0, '102_thermal.jpg': 255.0, '103_thermal.jpg': 255.0, '104_thermal.jpg': 255.0, '105_thermal.jpg': 255.0, '106_thermal.jpg': 255.0, '107_thermal.jpg': 255.0, '108_thermal.jpg': 255.0, '109_thermal.jpg': 255.0, '10_thermal.jpg': 255.0, '110_thermal.jpg': 255.0, '111_thermal.jpg': 255.0, '112_thermal.jpg': 255.0, '113_thermal.jpg': 255.0, '114_thermal.jpg': 255.0, '115_thermal.jpg': 255.0, '116_thermal.jpg': 255.0, '117_thermal.jpg': 255.0, '118_thermal.jpg': 255.0, '119_thermal.jpg': 255.0, '11_thermal.jpg': 255.0, '120_thermal.jpg': 255.0, '121_thermal.jpg': 255.0, '122_thermal.jpg': 255.0, '123_thermal.jpg': 255.0, '124_thermal.jpg': 255.0, '125_thermal.jpg': 255.0, '126_thermal.jpg': 255.0, '127_thermal.jpg': 255.0, '128_thermal.jpg': 255.0, '129_thermal.jpg': 255.0, '12_thermal.jpg': 255.0, '130_thermal.jpg': 255.0, '131_thermal.jpg': 255.0, '132_thermal.jpg': 255.0, '133_thermal.jpg': 255.0, '134_thermal.jpg': 255.0, '135_thermal.jpg': 255.0, '136_thermal.jpg': 255.0, '137_thermal.jpg': 255.0, '138_thermal.jpg': 255.0, '139_thermal.jpg': 255.0, '13_thermal.jpg': 255.0, '140_thermal.jpg': 255.0, '141_thermal.jpg': 255.0, '142_thermal.jpg': 255.0, '143_thermal.jpg': 255.0, '144_thermal.jpg': 255.0, '145_thermal.jpg': 255.0, '146_thermal.jpg': 255.0, '147_thermal.jpg': 255.0, '148_thermal.jpg': 255.0, '149_thermal.jpg': 255.0, '14_thermal.jpg': 255.0, '150_thermal.jpg': 255.0, '151_thermal.jpg': 255.0, '152_thermal.jpg': 255.0, '153_thermal.jpg': 255.0, '154_thermal.jpg': 255.0, '155_thermal.jpg': 255.0, '156_thermal.jpg': 255.0, '157_thermal.jpg': 255.0, '158_thermal.jpg': 255.0, '159_thermal.jpg': 255.0, '15_thermal.jpg': 255.0, '160_thermal.jpg': 255.0, '161_thermal.jpg': 255.0, '162_thermal.jpg': 255.0, '163_thermal.jpg': 255.0, '164_thermal.jpg': 255.0, '165_thermal.jpg': 255.0, '166_thermal.jpg': 255.0, '167_thermal.jpg': 255.0, '168_thermal.jpg': 255.0, '169_thermal.jpg': 255.0, '16_thermal.jpg': 255.0, '170_thermal.jpg': 255.0, '171_thermal.jpg': 255.0, '172_thermal.jpg': 255.0, '173_thermal.jpg': 255.0, '174_thermal.jpg': 255.0, '175_thermal.jpg': 255.0, '176_thermal.jpg': 255.0, '177_thermal.jpg': 255.0, '178_thermal.jpg': 255.0, '179_thermal.jpg': 255.0, '17_thermal.jpg': 255.0, '180_thermal.jpg': 255.0, '181_thermal.jpg': 255.0, '182_thermal.jpg': 255.0, '183_thermal.jpg': 255.0, '184_thermal.jpg': 255.0, '185_thermal.jpg': 255.0, '186_thermal.jpg': 255.0, '187_thermal.jpg': 255.0, '188_thermal.jpg': 255.0, '189_thermal.jpg': 255.0, '18_thermal.jpg': 255.0, '190_thermal.jpg': 255.0, '191_thermal.jpg': 255.0, '192_thermal.jpg': 255.0, '193_thermal.jpg': 255.0, '194_thermal.jpg': 255.0, '195_thermal.jpg': 255.0, '196_thermal.jpg': 255.0, '197_thermal.jpg': 255.0, '198_thermal.jpg': 255.0, '199_thermal.jpg': 255.0, '19_thermal.jpg': 255.0, '1_thermal.jpg': 255.0, '200_thermal.jpg': 255.0, '201_thermal.jpg': 255.0, '202_thermal.jpg': 255.0, '203_thermal.jpg': 255.0, '204_thermal.jpg': 255.0, '205_thermal.jpg': 255.0, '206_thermal.jpg': 255.0, '207_thermal.jpg': 255.0, '208_thermal.jpg': 255.0, '209_thermal.jpg': 255.0, '20_thermal.jpg': 255.0, '210_thermal.jpg': 255.0, '211_thermal.jpg': 255.0, '212_thermal.jpg': 255.0, '213_thermal.jpg': 255.0, '214_thermal.jpg': 255.0, '215_thermal.jpg': 255.0, '216_thermal.jpg': 255.0, '217_thermal.jpg': 255.0, '218_thermal.jpg': 255.0, '219_thermal.jpg': 255.0, '21_thermal.jpg': 255.0, '220_thermal.jpg': 255.0, '221_thermal.jpg': 255.0, '222_thermal.jpg': 255.0, '223_thermal.jpg': 255.0, '224_thermal.jpg': 255.0, '225_thermal.jpg': 255.0, '226_thermal.jpg': 255.0, '227_thermal.jpg': 255.0, '228_thermal.jpg': 255.0, '229_thermal.jpg': 255.0, '22_thermal.jpg': 255.0, '230_thermal.jpg': 255.0, '231_thermal.jpg': 255.0, '232_thermal.jpg': 255.0, '233_thermal.jpg': 255.0, '234_thermal.jpg': 255.0, '235_thermal.jpg': 255.0, '236_thermal.jpg': 255.0, '237_thermal.jpg': 255.0, '238_thermal.jpg': 255.0, '239_thermal.jpg': 255.0, '23_thermal.jpg': 255.0, '240_thermal.jpg': 255.0, '241_thermal.jpg': 255.0, '242_thermal.jpg': 255.0, '243_thermal.jpg': 255.0, '244_thermal.jpg': 255.0, '245_thermal.jpg': 255.0, '246_thermal.jpg': 255.0, '247_thermal.jpg': 255.0, '248_thermal.jpg': 255.0, '249_thermal.jpg': 255.0, '24_thermal.jpg': 255.0, '250_thermal.jpg': 255.0, '251_thermal.jpg': 255.0, '252_thermal.jpg': 255.0, '253_thermal.jpg': 255.0, '254_thermal.jpg': 255.0, '25_thermal.jpg': 255.0, '26_thermal.jpg': 255.0, '27_thermal.jpg': 255.0, '28_thermal.jpg': 255.0, '29_thermal.jpg': 255.0, '2_thermal.jpg': 255.0, '30_thermal.jpg': 255.0, '31_thermal.jpg': 255.0, '32_thermal.jpg': 255.0, '33_thermal.jpg': 255.0, '34_thermal.jpg': 255.0, '35_thermal.jpg': 255.0, '36_thermal.jpg': 255.0, '37_thermal.jpg': 255.0, '38_thermal.jpg': 255.0, '39_thermal.jpg': 255.0, '3_thermal.jpg': 255.0, '40_thermal.jpg': 255.0, '41_thermal.jpg': 255.0, '42_thermal.jpg': 255.0, '43_thermal.jpg': 255.0, '44_thermal.jpg': 255.0, '45_thermal.jpg': 255.0, '46_thermal.jpg': 255.0, '47_thermal.jpg': 255.0, '48_thermal.jpg': 255.0, '49_thermal.jpg': 255.0, '4_thermal.jpg': 255.0, '50_thermal.jpg': 255.0, '51_thermal.jpg': 255.0, '52_thermal.jpg': 255.0, '53_thermal.jpg': 255.0, '54_thermal.jpg': 255.0, '55_thermal.jpg': 255.0, '56_thermal.jpg': 255.0, '57_thermal.jpg': 255.0, '58_thermal.jpg': 255.0, '59_thermal.jpg': 255.0, '5_thermal.jpg': 255.0, '60_thermal.jpg': 255.0, '61_thermal.jpg': 255.0, '62_thermal.jpg': 255.0, '63_thermal.jpg': 255.0, '64_thermal.jpg': 255.0, '65_thermal.jpg': 255.0, '66_thermal.jpg': 255.0, '67_thermal.jpg': 255.0, '68_thermal.jpg': 255.0, '69_thermal.jpg': 255.0, '6_thermal.jpg': 255.0, '70_thermal.jpg': 255.0, '71_thermal.jpg': 255.0, '72_thermal.jpg': 255.0, '73_thermal.jpg': 255.0, '74_thermal.jpg': 255.0, '75_thermal.jpg': 255.0, '76_thermal.jpg': 255.0, '77_thermal.jpg': 255.0, '78_thermal.jpg': 255.0, '79_thermal.jpg': 255.0, '7_thermal.jpg': 255.0, '80_thermal.jpg': 255.0, '81_thermal.jpg': 255.0, '82_thermal.jpg': 255.0, '83_thermal.jpg': 255.0, '84_thermal.jpg': 255.0, '85_thermal.jpg': 255.0, '86_thermal.jpg': 255.0, '87_thermal.jpg': 255.0, '88_thermal.jpg': 255.0, '89_thermal.jpg': 255.0, '8_thermal.jpg': 255.0, '90_thermal.jpg': 255.0, '91_thermal.jpg': 255.0, '92_thermal.jpg': 255.0, '93_thermal.jpg': 255.0, '94_thermal.jpg': 255.0, '95_thermal.jpg': 255.0, '96_thermal.jpg': 255.0, '97_thermal.jpg': 255.0, '98_thermal.jpg': 255.0, '99_thermal.jpg': 255.0, '9_thermal.jpg': 255.0}\n"
     ]
    }
   ],
   "source": [
    "def calculate_average_intensity(image):\n",
    "    # Step 1: Thresholding to create a binary mask\n",
    "    _, binary_mask = cv2.threshold(image, 150, 255, cv2.THRESH_BINARY)  # Modify threshold value as needed\n",
    "\n",
    "    # Step 2: Find contours or connected components in the binary mask\n",
    "    contours, _ = cv2.findContours(binary_mask, cv2.RETR_EXTERNAL, cv2.CHAIN_APPROX_SIMPLE)\n",
    "\n",
    "    # Step 3: Calculate average intensity of high-intensity region\n",
    "    total_intensity = 0\n",
    "    total_pixels = 0\n",
    "    for contour in contours:\n",
    "        x, y, w, h = cv2.boundingRect(contour)\n",
    "        region_of_interest = image[y:y + h, x:x + w]\n",
    "        total_intensity += np.sum(region_of_interest)\n",
    "        total_pixels += np.size(region_of_interest)\n",
    "\n",
    "    average_intensity = total_intensity / total_pixels\n",
    "    return average_intensity\n",
    "\n",
    "\n",
    "dir = \"dataset_features\"\n",
    "avg_intensities = {}\n",
    "# Loop over all the images\n",
    "for filename in os.listdir(dir):\n",
    "    # Load image\n",
    "    if filename.endswith(\"cow.jpg\"):\n",
    "        img = cv2.imread(os.path.join(dir, filename))\n",
    "        # Convert to grayscale\n",
    "        gray = cv2.cvtColor(img, cv2.COLOR_BGR2GRAY)\n",
    "        # Calculate average intensity\n",
    "        average_intensity = calculate_average_intensity(gray)\n",
    "        avg_intensities[filename] = average_intensity\n",
    "\n",
    "print(avg_intensities)\n",
    "\n",
    "        "
   ]
  },
  {
   "cell_type": "markdown",
   "metadata": {},
   "source": [
    "Noses"
   ]
  },
  {
   "cell_type": "code",
   "execution_count": 4,
   "metadata": {},
   "outputs": [],
   "source": [
    "# Define the number of clusters\n",
    "n_clusters = 2\n",
    "\n",
    "# Define the criteria for \"good\" or \"bad\" images\n",
    "criteria = [\"smoothness\"]\n",
    "nose_smoothness, nose_area, nose_perimeter, nose_var = [], [], [], []\n",
    "\n",
    "# Get a list of file names in the directory\n",
    "file_names = os.listdir(\"noses\")\n",
    "\n",
    "# Sort the list of file names alphabetically\n",
    "sorted_file_names = sorted(file_names, key=lambda x: int(x.split(\"_\")[0]))\n",
    "\n",
    "# Loop over all the images\n",
    "for filename in sorted_file_names:\n",
    "    \n",
    "    # Load image\n",
    "    if filename.endswith(\"nose.jpg\") :\n",
    "        index = int(filename.split(\"_\")[0])\n",
    "        img_index.append(index)\n",
    "\n",
    "        img_array = cv2.imread(os.path.join(\"noses\", filename))\n",
    "\n",
    "        # convert the image to grayscale\n",
    "        gray = cv2.cvtColor(img_array, cv2.COLOR_BGR2GRAY)\n",
    "\n",
    "        # perform thresholding to separate the shapes from the background\n",
    "        thresh = cv2.threshold(gray, 127, 255, cv2.THRESH_BINARY)[1]\n",
    "\n",
    "        # perform contour detection\n",
    "        contours, hierarchy = cv2.findContours(thresh, cv2.RETR_EXTERNAL, cv2.CHAIN_APPROX_SIMPLE)\n",
    "\n",
    "        # draw the contours on the original image\n",
    "        cv2.drawContours(img_array, contours, -1, (0, 255, 0), 2)\n",
    "\n",
    "        # Apply Laplacian operator\n",
    "        laplacian = cv2.Laplacian(gray, cv2.CV_64F)\n",
    "\n",
    "        # Calculate the variance of the Laplacian image\n",
    "        variance = np.var(laplacian)\n",
    "        nose_var.append(variance)\n",
    "        \n",
    "        # Calculate the perimeter and smoothness of each shape\n",
    "        smoothness = []\n",
    "        area_ = []\n",
    "        perimeter_ = []\n",
    "        for contour in contours:\n",
    "            perimeter = cv2.arcLength(contour, True)\n",
    "            area = cv2.contourArea(contour)\n",
    "            area_.append(area)\n",
    "            perimeter_.append(perimeter)\n",
    "            smoothness.append(perimeter / (2 * np.sqrt(np.pi * area)))\n",
    "            \n",
    "        # Calculate the average smoothness of all shapes in the image\n",
    "        if len(smoothness) > 0:\n",
    "            avg_smoothness = np.mean(smoothness)\n",
    "            avg_area = np.mean(area)\n",
    "            avg_perimeter = np.mean(perimeter)\n",
    "        else:\n",
    "            avg_smoothness = 0\n",
    "            \n",
    "        nose_smoothness.append(avg_smoothness)\n",
    "        nose_area.append(avg_area)\n",
    "        nose_perimeter.append(avg_perimeter)\n",
    "\n",
    "\n",
    "        "
   ]
  },
  {
   "cell_type": "code",
   "execution_count": 5,
   "metadata": {},
   "outputs": [
    {
     "name": "stdout",
     "output_type": "stream",
     "text": [
      "[391.0, 1290.0, 1276.0, 625.0, 1548.0, 1364.0, 2750.0, 783.0, 2268.0, 1504.0, 1584.0, 5130.0, 960.0, 2646.0, 920.0, 24.0, 1920.0, 1320.0, 1290.0, 1290.0, 1290.0, 540.0, 540.0, 1333.0, 1333.0, 1333.0, 1333.0, 1333.0, 1333.0, 1333.0, 1276.0, 1911.0, 2940.0, 648.0, 644.0, 625.0, 625.0, 625.0, 625.0, 625.0, 625.0, 1960.0, 1960.0, 1960.0, 1960.0, 1960.0, 1960.0, 1960.0, 1960.0, 1960.0, 1548.0, 1548.0, 1920.0, 1920.0, 891.0, 910.0, 780.0, 891.0, 756.0, 896.0, 783.0, 783.0, 783.0, 700.0, 806.0, 810.0, 728.0, 1140.0, 972.0, 858.0, 884.0, 945.0, 918.0, 960.0, 960.0, 1776.0, 2107.0, 783.0, 783.0, 783.0, 783.0, 783.0, 630.0, 468.0, 2052.0, 2052.0, 1998.0, 1944.0, 2268.0, 2268.0, 2268.0, 2132.0, 2132.0, 1768.0, 1768.0, 1820.0, 1908.0, 748.0, 748.0, 1504.0, 391.0, 1989.0, 1472.0, 770.0, 1472.0, 1598.0, 2376.0, 1296.0, 2915.0, 2862.0, 4914.0, 4806.0, 4914.0, 5005.0, 5076.0, 5115.0, 2709.0, 2623.0, 2640.0, 5130.0, 5130.0, 2160.0, 1521.0, 1521.0, 1296.0, 1296.0, 1296.0, 1330.0, 960.0, 960.0, 1794.0, 1794.0, 1794.0, 486.0, 486.0, 486.0, 486.0, 2814.0, 2583.0, 2646.0, 2646.0, 3139.0, 3139.0, 600.0, 1352.0, 1248.0, 1248.0, 912.0, 912.0, 920.0, 1092.0, 1092.0, 1092.0, 816.0, 504.0, 805.0, 704.0, 945.0, 759.0, 24.0, 24.0, 1320.0, 1320.0, 1320.0, 1350.0, 1260.0, 1218.0, 1290.0, 1320.0, 1320.0, 1320.0, 1290.0, 1290.0, 1290.0, 1189.0, 1260.0, 1364.0, 1364.0, 1364.0, 1364.0, 1320.0, 1333.0, 1333.0, 1333.0, 1218.0, 1290.0, 1290.0, 1350.0, 1290.0, 1290.0, 1290.0]\n"
     ]
    }
   ],
   "source": [
    "print(nose_area)"
   ]
  },
  {
   "cell_type": "code",
   "execution_count": 33,
   "metadata": {},
   "outputs": [
    {
     "name": "stdout",
     "output_type": "stream",
     "text": [
      "255\n",
      "255\n",
      "255\n",
      "[0, 1, 2, 3, 4, 5, 6, 7, 8, 9, 10, 11, 12, 13, 14, 15, 16, 17, 18, 19, 20, 21, 22, 23, 24, 25, 26, 27, 28, 29, 30, 31, 32, 33, 34, 35, 36, 37, 38, 39, 40, 41, 42, 43, 44, 53, 11, 75, 139, 174, 206, 238, 2, 18, 34, 50, 66, 82, 94, 101, 105, 109, 113, 117, 121, 125, 129, 133, 137, 141, 145, 149, 153, 157, 161, 165, 169, 173, 177, 181, 185, 189, 193, 197, 201, 205, 209, 213, 217, 221, 225, 229, 233, 237, 241, 245, 247, 249, 251, 253, 0, 2, 4, 6, 8, 10, 12, 14, 16, 18, 20, 22, 24, 26, 28, 30, 32, 34, 36, 38, 40, 42, 44, 46, 48, 50, 52, 54, 56, 58, 60, 62, 64, 66, 68, 70, 72, 74, 76, 78, 80, 82, 84, 86, 88, 90, 91, 92, 93, 94, 95, 96, 97, 98, 99, 100, 101, 102, 103, 104, 105, 106, 107, 108, 109, 110, 111, 112, 113, 114, 115, 116, 117, 118, 119, 120, 121, 122, 123, 124, 125, 126, 127, 128, 129, 130, 131, 132, 133, 134, 135, 136, 137, 138, 139, 140, 141, 142, 143, 144, 145, 146, 147, 148, 149, 150, 151, 152, 153, 154, 155, 156, 157, 158, 159, 160, 161, 162, 163, 164, 165, 166, 167, 168, 169, 170, 171, 172, 173, 174, 175, 176, 177, 178, 179, 180, 181, 182, 183, 184, 185, 186, 187, 188, 189, 190, 191, 192, 193, 194, 195, 196, 197, 198, 199, 200, 201, 202, 203, 204, 205, 206, 207, 208, 209, 210, 211, 212, 213, 214, 215, 216, 217, 218, 219, 220, 221, 222, 223, 224, 225, 226, 227, 228, 229, 230, 231, 232, 233, 234, 235, 236, 237, 238, 239, 240, 241, 242, 243, 244, 245, 246, 247, 248, 249, 250, 251, 252, 253, 254, 0, 1, 2, 3, 4, 5, 6, 7, 8, 9, 10, 11, 12, 13, 14, 15, 16, 17, 18, 19, 20, 21, 22, 23, 24, 25, 26, 27, 28, 29, 30, 31, 32, 33, 34, 35, 36, 37, 38, 39, 40, 41, 42, 43, 44, 45, 46, 47, 48, 49, 50, 51, 52, 53, 54, 55, 56, 57, 58, 59, 60, 61, 62, 63, 64, 65, 66, 67, 68, 69, 70, 71, 72, 73, 74, 75, 76, 77, 78, 79, 80, 81, 82, 83, 84, 85, 86, 87, 88, 89, 90, 91, 92, 93, 94, 95, 96, 97, 98, 99, 100, 101, 102, 103, 104, 105, 106, 107, 108, 109, 110, 111, 112, 113, 114, 115, 116, 117, 118, 119, 120, 121, 122, 123, 124, 125, 126, 127, 128, 129, 130, 131, 132, 133, 134, 135, 136, 137, 138, 139, 140, 141, 142, 143, 144, 145, 146, 147, 148, 149, 150, 151, 152, 153, 154, 155, 156, 157, 158, 159, 160, 161, 162, 163, 164, 165, 166, 167, 168, 169, 170, 171, 172, 173, 174, 175, 176, 177, 178, 179, 180, 181, 182, 183, 184, 185, 186, 187, 188, 189, 190, 191, 192, 193, 194, 195, 196, 197, 198, 199, 200, 201, 202, 203, 204, 205, 206, 207, 208, 209, 210, 211, 212, 213, 214, 215, 216, 217, 218, 219, 220, 221, 222, 223, 224, 225, 226, 227, 228, 229, 230, 231, 232, 233, 234, 235, 236, 237, 238, 239, 240, 241, 242, 243, 244, 245, 246, 247, 248, 249, 250, 251, 252, 253, 254, 0, 1, 2, 3, 4, 5, 6, 7, 8, 9, 10, 11, 12, 13, 14, 15, 16, 17, 18, 19, 20, 21, 22, 23, 24, 25, 26, 27, 28, 29, 30, 31, 32, 33, 34, 35, 36, 37, 38, 39, 40, 41, 42, 43, 44, 45, 46, 47, 48, 49, 50, 51, 52, 53, 54, 55, 56, 57, 58, 59, 60, 61, 62, 63, 64, 65, 66, 67, 68, 69, 70, 71, 72, 73, 74, 75, 76, 77, 78, 79, 80, 81, 82, 83, 84, 85, 86, 87, 88, 89, 90, 91, 92, 93, 94, 95, 96, 97, 98, 99, 100, 101, 102, 103, 104, 105, 106, 107, 108, 109, 110, 111, 112, 113, 114, 115, 116, 117, 118, 119, 120, 121, 122, 123, 124, 125, 126, 127, 128, 129, 130, 131, 132, 133, 134, 135, 136, 137, 138, 139, 140, 141, 142, 143, 144, 145, 146, 147, 148, 149, 150, 151, 152, 153, 154, 155, 156, 157, 158, 159, 160, 161, 162, 163, 164, 165, 166, 167, 168, 169, 170, 171, 172, 173, 174, 175, 176, 177, 178, 179, 180, 181, 182, 183, 184, 185, 186, 187, 188, 189, 190, 191, 192, 193, 194, 195, 196, 197, 198, 199, 200, 201, 202, 203, 204, 205, 206, 207, 208, 209, 210, 211, 212, 213, 214, 215, 216, 217, 218, 219, 220, 221, 222, 223, 224, 225, 226, 227, 228, 229, 230, 231, 232, 233, 234, 235, 236, 237, 238, 239, 240, 241, 242, 243, 244, 245, 246, 247, 248, 249, 250, 251, 252, 253, 254, 0, 1, 2, 3, 4, 5, 6, 7, 8, 9, 10, 11, 12, 13, 14, 15, 16, 17, 18, 19, 20, 21, 22, 23, 24, 25, 26, 27, 28, 29, 30, 31, 32, 33, 34, 35, 36, 37, 38, 39, 40, 41, 42, 43, 44, 45, 46, 47, 48, 49, 50, 51, 52, 53, 54, 55, 56, 57, 58, 59, 60, 61, 62, 63, 64, 65, 66, 67, 68, 69, 70, 71, 72, 73, 74, 75, 76, 77, 78, 79, 80, 81, 82, 83, 84, 85, 86, 87, 88, 89, 90, 91, 92, 93, 94, 95, 96, 97, 98, 99, 100, 101, 102, 103, 104, 105, 106, 107, 108, 109, 110, 111, 112, 113, 114, 115, 116, 117, 118, 119, 120, 121, 122, 123, 124, 125, 126, 127, 128, 129, 130, 131, 132, 133, 134, 135, 136, 137, 138, 139, 140, 141, 142, 143, 144, 145, 146, 147, 148, 149, 150, 151, 152, 153, 154, 155, 156, 157, 158, 159, 160, 161, 162, 163, 164, 165, 166, 167, 168, 169, 170, 171, 172, 173, 174, 175, 176, 177, 178, 179, 180, 181, 182, 183, 184, 185, 186, 187, 188, 189, 190, 191, 192, 193, 194, 195, 196, 197, 198, 199, 200, 201, 202, 203, 204, 205, 206, 207, 208, 209, 210, 211, 212, 213, 214, 215, 216, 217, 218, 219, 220, 221, 222, 223, 224, 225, 226, 227, 228, 229, 230, 231, 232, 233, 234, 235, 236, 237, 238, 239, 240, 241, 242, 243, 244, 245, 246, 247, 248, 249, 250, 251, 252, 253, 254]\n"
     ]
    }
   ],
   "source": [
    "print(len(eye_smoothness))\n",
    "# print(eye_area)\n",
    "# print(eye_perimeter)\n",
    "# print(high_temp_smoothness)\n",
    "# print(high_temp_area)\n",
    "# print(high_temp_perimeter)\n",
    "# print(eye_var)\n",
    "# print(high_temp_var)\n",
    "# print(img_index)\n",
    "print(len(eye_area))\n",
    "print(len(high_temp_area))\n",
    "print(img_index)"
   ]
  },
  {
   "cell_type": "code",
   "execution_count": 34,
   "metadata": {},
   "outputs": [],
   "source": [
    "\n",
    "# Load the data from the Excel file\n",
    "data = pd.read_excel('Profile_View.xlsx')\n",
    "image_paths = data['Image_Path'].values\n",
    "labels = data['Profile_View'].values\n",
    "\n",
    "ids_to_delete = []\n",
    "# Iterate over the excel file \n",
    "for index, row in data.iterrows():\n",
    "      if row['Profile_View'] == 0:\n",
    "            cow_id = row['Cow_ID']\n",
    "            ids_to_delete.append(cow_id)\n",
    "            # delete entries in high_temp_smoothness corresponding to the indices in ids_to_delete\n",
    "ids_to_delete = sorted(ids_to_delete, reverse=True)\n",
    "for id in ids_to_delete:\n",
    "      del img_index[id]\n",
    "\n"
   ]
  },
  {
   "cell_type": "code",
   "execution_count": null,
   "metadata": {},
   "outputs": [],
   "source": [
    "# print the cow images corresponding to the indices in the index list\n",
    "for index in img_index:\n",
    "    img = Image.open(os.path.join(\"dataset_features\", str(index) + \"_thermal.jpg\"))\n",
    "    display(img)"
   ]
  },
  {
   "cell_type": "code",
   "execution_count": 47,
   "metadata": {},
   "outputs": [],
   "source": [
    "# Scale the features to be between 0 and 1\n",
    "eye_smoothness = (eye_smoothness - np.min(eye_smoothness)) / (np.max(eye_smoothness) - np.min(eye_smoothness))\n",
    "eye_area = (eye_area - np.min(eye_area)) / (np.max(eye_area) - np.min(eye_area))\n",
    "eye_perimeter = (eye_perimeter - np.min(eye_perimeter)) / (np.max(eye_perimeter) - np.min(eye_perimeter))\n",
    "high_temp_smoothness = (high_temp_smoothness - np.min(high_temp_smoothness)) / (np.max(high_temp_smoothness) - np.min(high_temp_smoothness))\n",
    "high_temp_area = (high_temp_area - np.min(high_temp_area)) / (np.max(high_temp_area) - np.min(high_temp_area))\n",
    "high_temp_perimeter = (high_temp_perimeter - np.min(high_temp_perimeter)) / (np.max(high_temp_perimeter) - np.min(high_temp_perimeter))\n",
    "eye_var = (eye_var - np.min(eye_var)) / (np.max(eye_var) - np.min(eye_var))\n",
    "high_temp_var = (high_temp_var - np.min(high_temp_var)) / (np.max(high_temp_var) - np.min(high_temp_var))"
   ]
  },
  {
   "cell_type": "code",
   "execution_count": 48,
   "metadata": {},
   "outputs": [],
   "source": [
    "# Calculate the changes in the features per time step\n",
    "eye_smoothness_diff = np.gradient(eye_smoothness)\n",
    "eye_area_diff = np.gradient(eye_area)\n",
    "eye_perimeter_diff = np.gradient(eye_perimeter)\n",
    "high_temp_smoothness_diff = np.gradient(high_temp_smoothness)\n",
    "high_temp_area_diff = np.gradient(high_temp_area)\n",
    "high_temp_perimeter_diff = np.gradient(high_temp_perimeter)\n",
    "eye_var_diff = np.gradient(eye_var)\n",
    "high_temp_var_diff = np.gradient(high_temp_var)\n",
    "\n",
    "high_temp_area_diff2 = np.diff(high_temp_area)\n",
    "high_temp_perimeter_diff2 = np.diff(high_temp_perimeter)\n"
   ]
  },
  {
   "cell_type": "code",
   "execution_count": 61,
   "metadata": {},
   "outputs": [
    {
     "name": "stdout",
     "output_type": "stream",
     "text": [
      "Top 10 values: [0.13196942 0.13615108 0.14027278 0.14031775 0.14404976 0.15058453\n",
      " 0.17282674 0.21479317 0.21714628 0.22095324 0.2364958  0.24952038\n",
      " 0.25434652 0.26414868 0.27544964 0.27559952 0.28303357 0.32892686\n",
      " 0.47299161]\n",
      "Top 10 indices: [  0  23  28  29  31  32  35 149 150 156 166 170 184 231 232 233 252]\n"
     ]
    }
   ],
   "source": [
    "\n",
    "# Get the indices that would sort the array in descending order\n",
    "idxs_sorted = np.argsort(high_temp_area_diff)[::-1]\n",
    "\n",
    "# Get the first 10 elements and their indices\n",
    "top_10_values = high_temp_area_diff[idxs_sorted][:10]\n",
    "top_10_indices = idxs_sorted[:10]\n",
    "\n",
    "# Get the indices that would sort the array in descending order\n",
    "idxs_sorted2 = np.argsort(high_temp_area_diff2)[::-1]\n",
    "\n",
    "# Get the first 10 elements and their indices\n",
    "top_10_values2 = high_temp_area_diff2[idxs_sorted2][:10]\n",
    "top_10_indices2 = idxs_sorted2[:10]\n",
    "\n",
    "# Take the union of the two lists\n",
    "top_10_values = np.union1d(top_10_values, top_10_values2)\n",
    "top_10_indices = np.union1d(top_10_indices, top_10_indices2)\n",
    "\n",
    "# Print the results\n",
    "print(\"Top 10 values:\", top_10_values)\n",
    "print(\"Top 10 indices:\", top_10_indices)"
   ]
  },
  {
   "cell_type": "code",
   "execution_count": 49,
   "metadata": {},
   "outputs": [],
   "source": [
    "# Initialize KMeans with 3 clusters\n",
    "kmeans = KMeans(n_clusters=3)\n",
    "actual_features = {'eye_smoothness': eye_smoothness, 'eye_area': eye_area, 'eye_perimeter': eye_perimeter, \n",
    "                  'high_temp_smoothness': high_temp_smoothness, 'high_temp_area': high_temp_area, 'high_temp_perimeter': high_temp_perimeter, \n",
    "                  'eye_var': eye_var, 'high_temp_var': high_temp_var }\n",
    "gradient_featues = {\n",
    "                  'eye_smoothness_diff': eye_smoothness_diff, 'eye_area_diff': eye_area_diff,\n",
    "                  'eye_perimeter_diff': eye_perimeter_diff, 'high_temp_smoothness_diff': high_temp_smoothness_diff,\n",
    "                  'high_temp_area_diff': high_temp_area_diff, 'high_temp_perimeter_diff': high_temp_perimeter_diff,\n",
    "                  'eye_var_diff': eye_var_diff, 'high_temp_var_diff': high_temp_var_diff\n",
    "                  }\n",
    "X = pd.DataFrame(gradient_featues)\n",
    "\n",
    "# Fit the KMeans model to the data\n",
    "kmeans.fit(X)\n",
    "\n",
    "# Get the cluster labels for each data point\n",
    "labels = kmeans.labels_\n",
    "\n",
    "# Get the centroids of each cluster\n",
    "centroids = kmeans.cluster_centers_"
   ]
  },
  {
   "cell_type": "code",
   "execution_count": 50,
   "metadata": {},
   "outputs": [
    {
     "name": "stdout",
     "output_type": "stream",
     "text": [
      "[[ 3.92188902e-02 -7.91226471e-02 -1.00015131e-01  1.81539875e-01\n",
      "   6.72064859e-02  1.65308658e-01  4.20240350e-02  1.64075689e-01]\n",
      " [-1.05721504e-02  2.30723391e-02  2.94166558e-02 -7.10006512e-03\n",
      "   1.13946379e-03 -6.56126714e-03 -2.39296852e-04 -6.54110018e-03]\n",
      " [-1.36460671e-02 -4.05543866e-02 -5.22485876e-02 -2.63682540e-01\n",
      "  -1.03049155e-01 -2.29712547e-01 -5.53279483e-02 -2.29331075e-01]]\n",
      "[0 0 1 1 1 1 1 1 1 1 1 1 1 1 1 0 1 1 1 2 1 0 0 1 1 1 0 2 2 1 1 1 1 2 1 1 1\n",
      " 2 1 0 1 1 1 2 2 1 1 1 1 1 0 1 2 1 1 1 1 1 1 1 1 1 1 1 1 2 2 0 1 1 1 1 1 1\n",
      " 1 0 0 1 1 1 1 1 1 0 0 1 1 1 1 1 1 0 0 1 1 0 2 2 0 1 0 0 2 2 0 1 2 0 0 2 2\n",
      " 1 1 1 0 0 0 1 1 1 1 1 1 1 1 1 1 1 1 1 1 1 0 0 1 1 1 1 0 1 1 1 1 1 1 1 1 1\n",
      " 1 1 1 1 0]\n"
     ]
    }
   ],
   "source": [
    "print(centroids)\n",
    "print(labels)\n"
   ]
  },
  {
   "cell_type": "code",
   "execution_count": 51,
   "metadata": {},
   "outputs": [
    {
     "data": {
      "image/png": "[encoded data removed]",
      "text/plain": [
       "<Figure size 720x576 with 1 Axes>"
      ]
     },
     "metadata": {
      "needs_background": "light"
     },
     "output_type": "display_data"
    }
   ],
   "source": [
    "# Plot the data points with different colors for each cluster\n",
    "plt.figure(figsize=(10, 8))\n",
    "plt.scatter(X['high_temp_smoothness_diff'], X['high_temp_area_diff'], c=labels, cmap='rainbow')\n",
    "plt.xlabel('Smoothness gradient', fontsize=14, fontweight='bold')\n",
    "plt.ylabel('High temp area gradient', fontsize=14, fontweight='bold')\n",
    "plt.xticks(fontsize=12)\n",
    "plt.yticks(fontsize=12)\n",
    "plt.show()\n"
   ]
  },
  {
   "cell_type": "code",
   "execution_count": 52,
   "metadata": {},
   "outputs": [
    {
     "data": {
      "image/png": "[encoded data removed]",
      "text/plain": [
       "<Figure size 720x576 with 1 Axes>"
      ]
     },
     "metadata": {
      "needs_background": "light"
     },
     "output_type": "display_data"
    }
   ],
   "source": [
    "# Apply dimensionality reduction using pca\n",
    "pca_vis = PCA(n_components=2, random_state=42)\n",
    "reduced_features = pca_vis.fit_transform(x)\n",
    "# Plot the data points with different colors for each cluster\n",
    "plt.figure(figsize=(10, 8))\n",
    "plt.scatter(reduced_features[:, 0], reduced_features[:, 1], c=labels, cmap='rainbow')\n",
    "plt.xlabel('F1', fontsize=14, fontweight='bold')\n",
    "plt.ylabel('F2', fontsize=14, fontweight='bold')\n",
    "plt.xticks(fontsize=12)\n",
    "plt.yticks(fontsize=12)\n",
    "plt.show()"
   ]
  },
  {
   "cell_type": "code",
   "execution_count": 53,
   "metadata": {},
   "outputs": [
    {
     "data": {
      "image/png": "[encoded data removed]",
      "text/plain": [
       "<Figure size 720x576 with 1 Axes>"
      ]
     },
     "metadata": {
      "needs_background": "light"
     },
     "output_type": "display_data"
    }
   ],
   "source": [
    "# Plot the data points with different colors for each cluster\n",
    "plt.figure(figsize=(10, 8))\n",
    "plt.scatter(X['eye_area_diff'], X['high_temp_area_diff'], c=labels, cmap='rainbow')\n",
    "plt.xlabel('Eye area gradient', fontsize=14, fontweight='bold')\n",
    "plt.ylabel('High temp area gradient', fontsize=14, fontweight='bold')\n",
    "plt.xticks(fontsize=12)\n",
    "plt.yticks(fontsize=12)\n",
    "plt.show()"
   ]
  },
  {
   "cell_type": "code",
   "execution_count": 54,
   "metadata": {},
   "outputs": [
    {
     "name": "stdout",
     "output_type": "stream",
     "text": [
      "The average silhouette score is: 0.37251046187511505\n"
     ]
    }
   ],
   "source": [
    "# Calculate the silhouette score\n",
    "silhouette_avg = silhouette_score(X, labels)\n",
    "\n",
    "print(f\"The average silhouette score is: {silhouette_avg}\")"
   ]
  },
  {
   "cell_type": "code",
   "execution_count": 24,
   "metadata": {},
   "outputs": [
    {
     "name": "stdout",
     "output_type": "stream",
     "text": [
      "Feature 1 importance: (0.29894093498208163, 'high_temp_var_diff')\n",
      "Feature 2 importance: (0.29410851203700106, 'high_temp_perimeter_diff')\n",
      "Feature 3 importance: (0.20602056837289734, 'high_temp_smoothness_diff')\n",
      "Feature 4 importance: (0.10602245761629255, 'high_temp_area_diff')\n",
      "Feature 5 importance: (0.036098030858293356, 'eye_var_diff')\n",
      "Feature 6 importance: (0.02642569118931075, 'eye_area_diff')\n",
      "Feature 7 importance: (0.01729946127361562, 'eye_smoothness_diff')\n",
      "Feature 8 importance: (0.015084343670507695, 'eye_perimeter_diff')\n"
     ]
    }
   ],
   "source": [
    "from sklearn.ensemble import RandomForestClassifier\n",
    "rf = RandomForestClassifier()\n",
    "rf.fit(X, labels)\n",
    "\n",
    "# Retrieve feature importances\n",
    "feature_importances = rf.feature_importances_\n",
    "feature_importances = list(zip(rf.feature_importances_, X.columns))\n",
    "feature_importances.sort(reverse=True)\n",
    "\n",
    "# Print the feature importances\n",
    "for feature_id, importance in enumerate(feature_importances):\n",
    "    print(f\"Feature {feature_id+1} importance: {importance}\")"
   ]
  },
  {
   "cell_type": "code",
   "execution_count": 27,
   "metadata": {},
   "outputs": [
    {
     "data": {
      "text/plain": [
       "<matplotlib.axes._subplots.AxesSubplot at 0x2314c853788>"
      ]
     },
     "execution_count": 27,
     "metadata": {},
     "output_type": "execute_result"
    },
    {
     "data": {
      "image/png": "[encoded data removed]",
      "text/plain": [
       "<Figure size 432x288 with 1 Axes>"
      ]
     },
     "metadata": {
      "needs_background": "light"
     },
     "output_type": "display_data"
    }
   ],
   "source": [
    "pd.DataFrame(feature_importances, index=[x for (_,x) in feature_importances]).plot(kind = 'bar')"
   ]
  },
  {
   "cell_type": "code",
   "execution_count": 15,
   "metadata": {},
   "outputs": [
    {
     "name": "stdout",
     "output_type": "stream",
     "text": [
      "Third cluster indices:\n",
      "(array([  2,   3,   4,   5,   6,   7,   8,   9,  10,  11,  12,  13,  14,\n",
      "        16,  19,  21,  22,  23,  25,  26,  28,  31,  35,  38,  39,  40,\n",
      "        42,  43,  45,  49,  50,  51,  52,  53,  55,  57,  59,  60,  62,\n",
      "        65,  67,  68,  69,  70,  71,  72,  73,  74,  75,  76,  77,  78,\n",
      "        79,  80,  83,  86,  87,  88,  89,  90,  91,  92,  93,  94,  95,\n",
      "        96,  97,  98,  99, 100, 102, 104, 105, 106, 107, 108, 109, 110,\n",
      "       111, 114, 115, 117, 119, 120, 121, 124, 125, 126, 128, 129, 130,\n",
      "       133, 134, 135, 136, 137, 138, 139, 140, 141, 142, 143, 144, 146,\n",
      "       147, 148, 149, 150, 152, 153, 154, 157, 158, 161, 164, 165, 167,\n",
      "       169, 172, 175, 177, 179, 185, 190, 191, 192, 193, 196, 197, 198,\n",
      "       199, 200, 201, 203, 205, 206, 207, 208, 209, 210, 211, 212, 213,\n",
      "       214, 215, 216, 217, 218, 219, 220, 221, 222, 223, 224, 225, 226,\n",
      "       227, 228, 229, 230, 234, 236, 237, 240, 241, 242, 243, 244, 246,\n",
      "       247, 248, 249, 250, 251, 252], dtype=int64),)\n"
     ]
    }
   ],
   "source": [
    "# get the indices of the elements in third cluster\n",
    "print(\"Third cluster indices:\")\n",
    "print(np.where(labels == 2))\n"
   ]
  },
  {
   "cell_type": "code",
   "execution_count": 46,
   "metadata": {},
   "outputs": [
    {
     "name": "stdout",
     "output_type": "stream",
     "text": [
      "Intersection:\n",
      "[[ 87 118 119 120 121 123 124 125 163 164 165 166 168 169 170 174 176 177\n",
      "  182 183 189 190 191 193 194 195 197 198 201 205 206 207 208 209 210 211\n",
      "  212 213 214 215 216 217 218 219 220 221 222 229 230 231]]\n"
     ]
    }
   ],
   "source": [
    "# print the intersection of the array of indices of the elements in the third cluster and the array of indices of the top 10 elements\n",
    "print(\"Intersection:\")\n",
    "#stressed_images = np.intersect1d(np.where(labels == 2), top_10_indices)\n",
    "stressed_images = np.array(np.where(labels == 2))\n",
    "# Get the images in the second cluster\n",
    "med_stress = np.array(np.where(labels == 1))\n",
    "# Get the images in the first cluster\n",
    "low_stress = np.array(np.where(labels == 0))\n",
    "print(stressed_images)"
   ]
  },
  {
   "cell_type": "code",
   "execution_count": null,
   "metadata": {},
   "outputs": [],
   "source": [
    "# print the cow images that are in the third cluster and have the top 10 values\n",
    "print(\"Cow images:\")\n",
    "# Get a list of file names in the directory\n",
    "file_names = os.listdir(\"dataset_features\")\n",
    "\n",
    "# Sort the list of file names alphabetically\n",
    "sorted_file_names = sorted(file_names, key=lambda x: int(x.split(\"_\")[0]))\n",
    "\n",
    "# Loop over all the images\n",
    "for filename in sorted_file_names:\n",
    "    \n",
    "    # Load image\n",
    "    if filename.endswith(\"main.jpg\"):\n",
    "        # print a table of images where the first column is stressed images, second column is medium stress images, and third column is low stress images\n",
    "\n",
    "        # print the image if it is in the third cluster and has the top 10 values\n",
    "        if int(filename.split(\"_\")[0]) in stressed_images:\n",
    "            print(filename)\n",
    "            image = cv2.imread(\"dataset_features/\" + filename)\n",
    "            image = cv2.cvtColor(image, cv2.COLOR_BGR2RGB)\n",
    "            plt.imshow(image)\n",
    "            plt.show()\n",
    "\n",
    "# print the cow images that are in the second cluster \n",
    "        elif int(filename.split(\"_\")[0]) in med_stress:\n",
    "            print(filename)\n",
    "            image = cv2.imread(\"dataset_features/\" + filename)\n",
    "            image = cv2.cvtColor(image, cv2.COLOR_BGR2RGB)\n",
    "            plt.imshow(image)\n",
    "            plt.show()\n",
    "        \n",
    "# print the cow images that are in the first cluster\n",
    "        elif int(filename.split(\"_\")[0]) in low_stress:\n",
    "            print(filename)\n",
    "            image = cv2.imread(\"dataset_features/\" + filename)\n",
    "            image = cv2.cvtColor(image, cv2.COLOR_BGR2RGB)\n",
    "            plt.imshow(image)\n",
    "            plt.show()\n"
   ]
  },
  {
   "cell_type": "code",
   "execution_count": 47,
   "metadata": {},
   "outputs": [],
   "source": [
    "\n",
    "\n",
    "# define your arrays of images\n",
    "array1 = []\n",
    "array2 = []\n",
    "array3 = []\n",
    "\n",
    "\n",
    "# Get a list of file names in the directory\n",
    "file_names = os.listdir(\"dataset_features\")\n",
    "\n",
    "# Sort the list of file names alphabetically\n",
    "sorted_file_names = sorted(file_names, key=lambda x: int(x.split(\"_\")[0]))\n",
    "\n",
    "for fileindex in stressed_images[0]:\n",
    "    filepath = \"dataset_features/\" + str(fileindex) + \"_main.jpg\"\n",
    "    array1.append(filepath)\n",
    "\n",
    "for fileindex in med_stress[0]:\n",
    "    filepath = \"dataset_features/\" + str(fileindex) + \"_main.jpg\"\n",
    "    array2.append(filepath)\n",
    "\n",
    "for fileindex in low_stress[0]:\n",
    "    filepath = \"dataset_features/\" + str(fileindex) + \"_main.jpg\"\n",
    "    array3.append(filepath)\n",
    "\n"
   ]
  },
  {
   "cell_type": "code",
   "execution_count": 48,
   "metadata": {},
   "outputs": [
    {
     "name": "stdout",
     "output_type": "stream",
     "text": [
      "50\n",
      "129\n"
     ]
    }
   ],
   "source": [
    "print(len(array1))\n",
    "print(len(array3))"
   ]
  },
  {
   "cell_type": "code",
   "execution_count": 39,
   "metadata": {},
   "outputs": [
    {
     "data": {
      "text/html": [
       "<div class='row'><img src='dataset_features/2_main.jpg' style='width:33%;'><img src='dataset_features/3_main.jpg' style='width:33%;'><img src='dataset_features/4_main.jpg' style='width:33%;'></div>"
      ],
      "text/plain": [
       "<IPython.core.display.HTML object>"
      ]
     },
     "execution_count": 39,
     "metadata": {},
     "output_type": "execute_result"
    }
   ],
   "source": [
    "\n",
    "row_html = \"<div class='row'>\"\n",
    "\n",
    "for i in range(3):\n",
    "    row_html += f\"<img src='{array1[i]}' style='width:33%;'>\"\n",
    "\n",
    "row_html += \"</div>\"\n",
    "\n",
    "HTML(row_html)"
   ]
  },
  {
   "cell_type": "code",
   "execution_count": 19,
   "metadata": {},
   "outputs": [],
   "source": [
    "\n",
    "def create_image_row(image_array):\n",
    "    row_html = \"<div class='row'>\"\n",
    "    num_images = len(image_array)\n",
    "    for i in range(num_images):\n",
    "        row_html += f\"<img src='{image_array[i]}' style='width:{100/num_images}%;'>\"\n",
    "    row_html += \"</div>\"\n",
    "    return row_html\n",
    "\n",
    "num_rows = max(len(array1), len(array2), len(array3))\n",
    "\n",
    "table_html = \"<table style='border: 1px solid green;'>\"\n",
    "table_html += f\"<td style='border: 1px solid green font-size:24px;font-weight:bold;'>{'High Stress'}</td>\"\n",
    "table_html += f\"<td style='border: 1px solid green font-size:24px;font-weight:bold;'>{'Medium Stress'}</td>\"\n",
    "table_html += f\"<td style='border: 1px solid green font-size:24px;font-weight:bold;'>{'Low Stress'}</td>\"\n",
    "for i in range(num_rows):\n",
    "    table_html += \"<tr>\"\n",
    "    if i < len(array1):\n",
    "        table_html += f\"<td style='border: 1px solid green;'>{create_image_row([array1[i]])}</td>\"\n",
    "    else:\n",
    "        table_html += '<td style=\"border-right: 1px solid green;\"></td>'\n",
    "    if i < len(array2):\n",
    "        table_html += f\"<td style='border: 1px solid green;'>{create_image_row([array2[i]])}</td>\"\n",
    "    else:\n",
    "        table_html += '<td style=\"border-right: 1px solid green;\"></td>'\n",
    "    if i < len(array3):\n",
    "        table_html += f\"<td style='border: 1px solid green;'>{create_image_row([array3[i]])}</td>\"\n",
    "    else:\n",
    "        table_html += '<td style=\"border-right: 1px solid green;\"></td>'\n",
    "    table_html += \"</tr>\"\n",
    "table_html += \"</table>\"\n",
    "\n",
    "HTML(table_html)\n",
    "with open('table.html', 'w') as f:\n",
    "    f.write(table_html)\n"
   ]
  },
  {
   "cell_type": "code",
   "execution_count": null,
   "metadata": {},
   "outputs": [],
   "source": []
  }
 ],
 "metadata": {
  "kernelspec": {
   "display_name": "base",
   "language": "python",
   "name": "python3"
  },
  "language_info": {
   "codemirror_mode": {
    "name": "ipython",
    "version": 3
   },
   "file_extension": ".py",
   "mimetype": "text/x-python",
   "name": "python",
   "nbconvert_exporter": "python",
   "pygments_lexer": "ipython3",
   "version": "3.7.6"
  },
  "orig_nbformat": 4
 },
 "nbformat": 4,
 "nbformat_minor": 2
}
